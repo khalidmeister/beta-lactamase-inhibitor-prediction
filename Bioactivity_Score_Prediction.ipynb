{
 "cells": [
  {
   "cell_type": "code",
   "execution_count": null,
   "metadata": {
    "colab": {
     "base_uri": "https://localhost:8080/"
    },
    "id": "FRx8SaHdTih7",
    "outputId": "4be5311e-c898-4ed7-efc2-fe4a865d423c"
   },
   "outputs": [
    {
     "name": "stdout",
     "output_type": "stream",
     "text": [
      "--2021-10-12 09:24:12--  https://github.com/dataprofessor/beta-lactamase/raw/main/beta_lactamase_CHEMBL29.zip\n",
      "Resolving github.com (github.com)... 52.192.72.89\n",
      "Connecting to github.com (github.com)|52.192.72.89|:443... connected.\n",
      "HTTP request sent, awaiting response... 302 Found\n",
      "Location: https://raw.githubusercontent.com/dataprofessor/beta-lactamase/main/beta_lactamase_CHEMBL29.zip [following]\n",
      "--2021-10-12 09:24:12--  https://raw.githubusercontent.com/dataprofessor/beta-lactamase/main/beta_lactamase_CHEMBL29.zip\n",
      "Resolving raw.githubusercontent.com (raw.githubusercontent.com)... 185.199.108.133, 185.199.109.133, 185.199.110.133, ...\n",
      "Connecting to raw.githubusercontent.com (raw.githubusercontent.com)|185.199.108.133|:443... connected.\n",
      "HTTP request sent, awaiting response... 200 OK\n",
      "Length: 1416390 (1.4M) [application/zip]\n",
      "Saving to: ‘beta_lactamase_CHEMBL29.zip’\n",
      "\n",
      "beta_lactamase_CHEM 100%[===================>]   1.35M  --.-KB/s    in 0.1s    \n",
      "\n",
      "2021-10-12 09:24:13 (12.8 MB/s) - ‘beta_lactamase_CHEMBL29.zip’ saved [1416390/1416390]\n",
      "\n"
     ]
    }
   ],
   "source": [
    "! wget https://github.com/dataprofessor/beta-lactamase/raw/main/beta_lactamase_CHEMBL29.zip"
   ]
  },
  {
   "cell_type": "markdown",
   "metadata": {
    "id": "lcwnamUoWm9u"
   },
   "source": [
    "## Load The Data"
   ]
  },
  {
   "cell_type": "code",
   "execution_count": 1,
   "metadata": {
    "colab": {
     "base_uri": "https://localhost:8080/",
     "height": 204
    },
    "id": "CXNIGLXyUN_F",
    "outputId": "aa6360b4-e2eb-4162-a824-f9f8cf6ae540"
   },
   "outputs": [
    {
     "data": {
      "text/html": [
       "<div>\n",
       "<style scoped>\n",
       "    .dataframe tbody tr th:only-of-type {\n",
       "        vertical-align: middle;\n",
       "    }\n",
       "\n",
       "    .dataframe tbody tr th {\n",
       "        vertical-align: top;\n",
       "    }\n",
       "\n",
       "    .dataframe thead th {\n",
       "        text-align: right;\n",
       "    }\n",
       "</style>\n",
       "<table border=\"1\" class=\"dataframe\">\n",
       "  <thead>\n",
       "    <tr style=\"text-align: right;\">\n",
       "      <th></th>\n",
       "      <th>molecule_chembl_id</th>\n",
       "      <th>canonical_smiles</th>\n",
       "      <th>standard_relation</th>\n",
       "      <th>standard_value</th>\n",
       "      <th>standard_units</th>\n",
       "      <th>standard_type</th>\n",
       "      <th>pchembl_value</th>\n",
       "      <th>target_pref_name</th>\n",
       "      <th>bao_label</th>\n",
       "    </tr>\n",
       "  </thead>\n",
       "  <tbody>\n",
       "    <tr>\n",
       "      <th>0</th>\n",
       "      <td>CHEMBL1730</td>\n",
       "      <td>CO/N=C(\\C(=O)N[C@@H]1C(=O)N2C(C(=O)O)=C(COC(C)...</td>\n",
       "      <td>=</td>\n",
       "      <td>10.0</td>\n",
       "      <td>/mM/s</td>\n",
       "      <td>Kcat/Km</td>\n",
       "      <td>NaN</td>\n",
       "      <td>Gil1</td>\n",
       "      <td>assay format</td>\n",
       "    </tr>\n",
       "    <tr>\n",
       "      <th>1</th>\n",
       "      <td>CHEMBL996</td>\n",
       "      <td>CO[C@@]1(NC(=O)Cc2cccs2)C(=O)N2C(C(=O)O)=C(COC...</td>\n",
       "      <td>NaN</td>\n",
       "      <td>NaN</td>\n",
       "      <td>NaN</td>\n",
       "      <td>Kcat/Km</td>\n",
       "      <td>NaN</td>\n",
       "      <td>Gil1</td>\n",
       "      <td>assay format</td>\n",
       "    </tr>\n",
       "    <tr>\n",
       "      <th>2</th>\n",
       "      <td>CHEMBL617</td>\n",
       "      <td>CC(=O)OCC1=C(C(=O)O)N2C(=O)[C@@H](NC(=O)Cc3ccc...</td>\n",
       "      <td>=</td>\n",
       "      <td>598.0</td>\n",
       "      <td>/mM/s</td>\n",
       "      <td>Kcat/Km</td>\n",
       "      <td>NaN</td>\n",
       "      <td>Gil1</td>\n",
       "      <td>assay format</td>\n",
       "    </tr>\n",
       "    <tr>\n",
       "      <th>3</th>\n",
       "      <td>CHEMBL702</td>\n",
       "      <td>CCN1CCN(C(=O)N[C@@H](C(=O)N[C@@H]2C(=O)N3[C@@H...</td>\n",
       "      <td>=</td>\n",
       "      <td>3400.0</td>\n",
       "      <td>/mM/s</td>\n",
       "      <td>Kcat/Km</td>\n",
       "      <td>NaN</td>\n",
       "      <td>Gil1</td>\n",
       "      <td>assay format</td>\n",
       "    </tr>\n",
       "    <tr>\n",
       "      <th>4</th>\n",
       "      <td>CHEMBL1449</td>\n",
       "      <td>CC1(C)S[C@@H]2[C@H](NC(=O)[C@H](C(=O)O)c3ccsc3...</td>\n",
       "      <td>=</td>\n",
       "      <td>10000.0</td>\n",
       "      <td>/mM/s</td>\n",
       "      <td>Kcat/Km</td>\n",
       "      <td>NaN</td>\n",
       "      <td>Gil1</td>\n",
       "      <td>assay format</td>\n",
       "    </tr>\n",
       "  </tbody>\n",
       "</table>\n",
       "</div>"
      ],
      "text/plain": [
       "  molecule_chembl_id                                   canonical_smiles  \\\n",
       "0         CHEMBL1730  CO/N=C(\\C(=O)N[C@@H]1C(=O)N2C(C(=O)O)=C(COC(C)...   \n",
       "1          CHEMBL996  CO[C@@]1(NC(=O)Cc2cccs2)C(=O)N2C(C(=O)O)=C(COC...   \n",
       "2          CHEMBL617  CC(=O)OCC1=C(C(=O)O)N2C(=O)[C@@H](NC(=O)Cc3ccc...   \n",
       "3          CHEMBL702  CCN1CCN(C(=O)N[C@@H](C(=O)N[C@@H]2C(=O)N3[C@@H...   \n",
       "4         CHEMBL1449  CC1(C)S[C@@H]2[C@H](NC(=O)[C@H](C(=O)O)c3ccsc3...   \n",
       "\n",
       "  standard_relation  standard_value standard_units standard_type  \\\n",
       "0                 =            10.0          /mM/s       Kcat/Km   \n",
       "1               NaN             NaN            NaN       Kcat/Km   \n",
       "2                 =           598.0          /mM/s       Kcat/Km   \n",
       "3                 =          3400.0          /mM/s       Kcat/Km   \n",
       "4                 =         10000.0          /mM/s       Kcat/Km   \n",
       "\n",
       "   pchembl_value target_pref_name     bao_label  \n",
       "0            NaN             Gil1  assay format  \n",
       "1            NaN             Gil1  assay format  \n",
       "2            NaN             Gil1  assay format  \n",
       "3            NaN             Gil1  assay format  \n",
       "4            NaN             Gil1  assay format  "
      ]
     },
     "execution_count": 1,
     "metadata": {},
     "output_type": "execute_result"
    }
   ],
   "source": [
    "import zipfile\n",
    "import pandas as pd\n",
    "\n",
    "zf = zipfile.ZipFile(\"beta_lactamase_CHEMBL29.zip\", \"r\")\n",
    "df = pd.concat( pd.read_csv(zf.open(f)) for f in zf.namelist() )\n",
    "df.head()"
   ]
  },
  {
   "cell_type": "markdown",
   "metadata": {
    "id": "t_c-kbHHWpqK"
   },
   "source": [
    "## Explore the data"
   ]
  },
  {
   "cell_type": "code",
   "execution_count": 2,
   "metadata": {
    "colab": {
     "base_uri": "https://localhost:8080/"
    },
    "id": "jmABPSYYUqWO",
    "outputId": "c41959b2-4c3d-4df7-d979-089f31a70133",
    "scrolled": true
   },
   "outputs": [
    {
     "name": "stdout",
     "output_type": "stream",
     "text": [
      "# of the unique Chembl ID:  64436\n",
      "# of existing Chembl ID:  71973\n"
     ]
    }
   ],
   "source": [
    "print(\"# of the unique Chembl ID: \", len(df.molecule_chembl_id.unique()))\n",
    "print(\"# of existing Chembl ID: \", len(df.molecule_chembl_id))"
   ]
  },
  {
   "cell_type": "code",
   "execution_count": 3,
   "metadata": {
    "colab": {
     "base_uri": "https://localhost:8080/",
     "height": 289
    },
    "id": "HYyrR39FU-bk",
    "outputId": "4f2c67de-f94f-495c-e952-8eb6b91ace53"
   },
   "outputs": [
    {
     "data": {
      "text/plain": [
       "<AxesSubplot:>"
      ]
     },
     "execution_count": 3,
     "metadata": {},
     "output_type": "execute_result"
    },
    {
     "data": {
      "image/png": "[encoded data removed]",
      "text/plain": [
       "<Figure size 432x288 with 1 Axes>"
      ]
     },
     "metadata": {
      "needs_background": "light"
     },
     "output_type": "display_data"
    }
   ],
   "source": [
    "df['standard_relation'].value_counts().plot(kind='bar')"
   ]
  },
  {
   "cell_type": "code",
   "execution_count": 4,
   "metadata": {
    "colab": {
     "base_uri": "https://localhost:8080/"
    },
    "id": "790yZnGaWMwx",
    "outputId": "e04c51c3-ed0e-4dbf-c415-348239bb9275"
   },
   "outputs": [
    {
     "data": {
      "text/plain": [
       "(-10.0, 50000000.0)"
      ]
     },
     "execution_count": 4,
     "metadata": {},
     "output_type": "execute_result"
    }
   ],
   "source": [
    "df.standard_value.min(), df.standard_value.max()"
   ]
  },
  {
   "cell_type": "code",
   "execution_count": 5,
   "metadata": {
    "colab": {
     "base_uri": "https://localhost:8080/",
     "height": 278
    },
    "id": "vaaAhWq7ValG",
    "outputId": "f319f739-9d8b-4b3f-a835-9c13dfd1d7ab"
   },
   "outputs": [
    {
     "data": {
      "image/png": "[encoded data removed]",
      "text/plain": [
       "<Figure size 576x288 with 2 Axes>"
      ]
     },
     "metadata": {
      "needs_background": "light"
     },
     "output_type": "display_data"
    }
   ],
   "source": [
    "import matplotlib.pyplot as plt\n",
    "\n",
    "fig, ax = plt.subplots(1, 2, figsize=(8, 4))\n",
    "ax[0].hist(x=df.standard_value, bins=30)\n",
    "ax[1].hist(x=df.pchembl_value, bins=30)\n",
    "plt.show()"
   ]
  },
  {
   "cell_type": "markdown",
   "metadata": {
    "id": "b9aVQhK7WsOa"
   },
   "source": [
    "## Preprocess the data"
   ]
  },
  {
   "cell_type": "code",
   "execution_count": 6,
   "metadata": {
    "colab": {
     "base_uri": "https://localhost:8080/",
     "height": 221
    },
    "id": "oja75mwqWvs2",
    "outputId": "5d6ae573-baa1-4d88-c8d7-08f9deb47ae5"
   },
   "outputs": [
    {
     "name": "stdout",
     "output_type": "stream",
     "text": [
      "(71973, 9)\n"
     ]
    },
    {
     "data": {
      "text/html": [
       "<div>\n",
       "<style scoped>\n",
       "    .dataframe tbody tr th:only-of-type {\n",
       "        vertical-align: middle;\n",
       "    }\n",
       "\n",
       "    .dataframe tbody tr th {\n",
       "        vertical-align: top;\n",
       "    }\n",
       "\n",
       "    .dataframe thead th {\n",
       "        text-align: right;\n",
       "    }\n",
       "</style>\n",
       "<table border=\"1\" class=\"dataframe\">\n",
       "  <thead>\n",
       "    <tr style=\"text-align: right;\">\n",
       "      <th></th>\n",
       "      <th>molecule_chembl_id</th>\n",
       "      <th>canonical_smiles</th>\n",
       "      <th>standard_relation</th>\n",
       "      <th>standard_value</th>\n",
       "      <th>standard_units</th>\n",
       "      <th>standard_type</th>\n",
       "      <th>pchembl_value</th>\n",
       "      <th>target_pref_name</th>\n",
       "      <th>bao_label</th>\n",
       "    </tr>\n",
       "  </thead>\n",
       "  <tbody>\n",
       "    <tr>\n",
       "      <th>0</th>\n",
       "      <td>CHEMBL1730</td>\n",
       "      <td>CO/N=C(\\C(=O)N[C@@H]1C(=O)N2C(C(=O)O)=C(COC(C)...</td>\n",
       "      <td>=</td>\n",
       "      <td>10.0</td>\n",
       "      <td>/mM/s</td>\n",
       "      <td>Kcat/Km</td>\n",
       "      <td>NaN</td>\n",
       "      <td>Gil1</td>\n",
       "      <td>assay format</td>\n",
       "    </tr>\n",
       "    <tr>\n",
       "      <th>1</th>\n",
       "      <td>CHEMBL996</td>\n",
       "      <td>CO[C@@]1(NC(=O)Cc2cccs2)C(=O)N2C(C(=O)O)=C(COC...</td>\n",
       "      <td>NaN</td>\n",
       "      <td>NaN</td>\n",
       "      <td>NaN</td>\n",
       "      <td>Kcat/Km</td>\n",
       "      <td>NaN</td>\n",
       "      <td>Gil1</td>\n",
       "      <td>assay format</td>\n",
       "    </tr>\n",
       "    <tr>\n",
       "      <th>2</th>\n",
       "      <td>CHEMBL617</td>\n",
       "      <td>CC(=O)OCC1=C(C(=O)O)N2C(=O)[C@@H](NC(=O)Cc3ccc...</td>\n",
       "      <td>=</td>\n",
       "      <td>598.0</td>\n",
       "      <td>/mM/s</td>\n",
       "      <td>Kcat/Km</td>\n",
       "      <td>NaN</td>\n",
       "      <td>Gil1</td>\n",
       "      <td>assay format</td>\n",
       "    </tr>\n",
       "    <tr>\n",
       "      <th>3</th>\n",
       "      <td>CHEMBL702</td>\n",
       "      <td>CCN1CCN(C(=O)N[C@@H](C(=O)N[C@@H]2C(=O)N3[C@@H...</td>\n",
       "      <td>=</td>\n",
       "      <td>3400.0</td>\n",
       "      <td>/mM/s</td>\n",
       "      <td>Kcat/Km</td>\n",
       "      <td>NaN</td>\n",
       "      <td>Gil1</td>\n",
       "      <td>assay format</td>\n",
       "    </tr>\n",
       "    <tr>\n",
       "      <th>4</th>\n",
       "      <td>CHEMBL1449</td>\n",
       "      <td>CC1(C)S[C@@H]2[C@H](NC(=O)[C@H](C(=O)O)c3ccsc3...</td>\n",
       "      <td>=</td>\n",
       "      <td>10000.0</td>\n",
       "      <td>/mM/s</td>\n",
       "      <td>Kcat/Km</td>\n",
       "      <td>NaN</td>\n",
       "      <td>Gil1</td>\n",
       "      <td>assay format</td>\n",
       "    </tr>\n",
       "  </tbody>\n",
       "</table>\n",
       "</div>"
      ],
      "text/plain": [
       "  molecule_chembl_id                                   canonical_smiles  \\\n",
       "0         CHEMBL1730  CO/N=C(\\C(=O)N[C@@H]1C(=O)N2C(C(=O)O)=C(COC(C)...   \n",
       "1          CHEMBL996  CO[C@@]1(NC(=O)Cc2cccs2)C(=O)N2C(C(=O)O)=C(COC...   \n",
       "2          CHEMBL617  CC(=O)OCC1=C(C(=O)O)N2C(=O)[C@@H](NC(=O)Cc3ccc...   \n",
       "3          CHEMBL702  CCN1CCN(C(=O)N[C@@H](C(=O)N[C@@H]2C(=O)N3[C@@H...   \n",
       "4         CHEMBL1449  CC1(C)S[C@@H]2[C@H](NC(=O)[C@H](C(=O)O)c3ccsc3...   \n",
       "\n",
       "  standard_relation  standard_value standard_units standard_type  \\\n",
       "0                 =            10.0          /mM/s       Kcat/Km   \n",
       "1               NaN             NaN            NaN       Kcat/Km   \n",
       "2                 =           598.0          /mM/s       Kcat/Km   \n",
       "3                 =          3400.0          /mM/s       Kcat/Km   \n",
       "4                 =         10000.0          /mM/s       Kcat/Km   \n",
       "\n",
       "   pchembl_value target_pref_name     bao_label  \n",
       "0            NaN             Gil1  assay format  \n",
       "1            NaN             Gil1  assay format  \n",
       "2            NaN             Gil1  assay format  \n",
       "3            NaN             Gil1  assay format  \n",
       "4            NaN             Gil1  assay format  "
      ]
     },
     "execution_count": 6,
     "metadata": {},
     "output_type": "execute_result"
    }
   ],
   "source": [
    "print(df.shape)\n",
    "df.head()"
   ]
  },
  {
   "cell_type": "markdown",
   "metadata": {
    "id": "kIlnvC_2W4ke"
   },
   "source": [
    "### Remove the data that doesn't contain equal relation"
   ]
  },
  {
   "cell_type": "code",
   "execution_count": 2,
   "metadata": {
    "colab": {
     "base_uri": "https://localhost:8080/",
     "height": 221
    },
    "id": "UpOE-sHDWxI-",
    "outputId": "197b4c69-5c0f-40bb-d977-2c38749b87af"
   },
   "outputs": [
    {
     "name": "stdout",
     "output_type": "stream",
     "text": [
      "(69469, 9)\n"
     ]
    },
    {
     "data": {
      "text/html": [
       "<div>\n",
       "<style scoped>\n",
       "    .dataframe tbody tr th:only-of-type {\n",
       "        vertical-align: middle;\n",
       "    }\n",
       "\n",
       "    .dataframe tbody tr th {\n",
       "        vertical-align: top;\n",
       "    }\n",
       "\n",
       "    .dataframe thead th {\n",
       "        text-align: right;\n",
       "    }\n",
       "</style>\n",
       "<table border=\"1\" class=\"dataframe\">\n",
       "  <thead>\n",
       "    <tr style=\"text-align: right;\">\n",
       "      <th></th>\n",
       "      <th>molecule_chembl_id</th>\n",
       "      <th>canonical_smiles</th>\n",
       "      <th>standard_relation</th>\n",
       "      <th>standard_value</th>\n",
       "      <th>standard_units</th>\n",
       "      <th>standard_type</th>\n",
       "      <th>pchembl_value</th>\n",
       "      <th>target_pref_name</th>\n",
       "      <th>bao_label</th>\n",
       "    </tr>\n",
       "  </thead>\n",
       "  <tbody>\n",
       "    <tr>\n",
       "      <th>0</th>\n",
       "      <td>CHEMBL1730</td>\n",
       "      <td>CO/N=C(\\C(=O)N[C@@H]1C(=O)N2C(C(=O)O)=C(COC(C)...</td>\n",
       "      <td>=</td>\n",
       "      <td>10.0</td>\n",
       "      <td>/mM/s</td>\n",
       "      <td>Kcat/Km</td>\n",
       "      <td>NaN</td>\n",
       "      <td>Gil1</td>\n",
       "      <td>assay format</td>\n",
       "    </tr>\n",
       "    <tr>\n",
       "      <th>2</th>\n",
       "      <td>CHEMBL617</td>\n",
       "      <td>CC(=O)OCC1=C(C(=O)O)N2C(=O)[C@@H](NC(=O)Cc3ccc...</td>\n",
       "      <td>=</td>\n",
       "      <td>598.0</td>\n",
       "      <td>/mM/s</td>\n",
       "      <td>Kcat/Km</td>\n",
       "      <td>NaN</td>\n",
       "      <td>Gil1</td>\n",
       "      <td>assay format</td>\n",
       "    </tr>\n",
       "    <tr>\n",
       "      <th>3</th>\n",
       "      <td>CHEMBL702</td>\n",
       "      <td>CCN1CCN(C(=O)N[C@@H](C(=O)N[C@@H]2C(=O)N3[C@@H...</td>\n",
       "      <td>=</td>\n",
       "      <td>3400.0</td>\n",
       "      <td>/mM/s</td>\n",
       "      <td>Kcat/Km</td>\n",
       "      <td>NaN</td>\n",
       "      <td>Gil1</td>\n",
       "      <td>assay format</td>\n",
       "    </tr>\n",
       "    <tr>\n",
       "      <th>4</th>\n",
       "      <td>CHEMBL1449</td>\n",
       "      <td>CC1(C)S[C@@H]2[C@H](NC(=O)[C@H](C(=O)O)c3ccsc3...</td>\n",
       "      <td>=</td>\n",
       "      <td>10000.0</td>\n",
       "      <td>/mM/s</td>\n",
       "      <td>Kcat/Km</td>\n",
       "      <td>NaN</td>\n",
       "      <td>Gil1</td>\n",
       "      <td>assay format</td>\n",
       "    </tr>\n",
       "    <tr>\n",
       "      <th>5</th>\n",
       "      <td>CHEMBL1082</td>\n",
       "      <td>CC1(C)S[C@@H]2[C@H](NC(=O)[C@H](N)c3ccc(O)cc3)...</td>\n",
       "      <td>=</td>\n",
       "      <td>4540.0</td>\n",
       "      <td>/mM/s</td>\n",
       "      <td>Kcat/Km</td>\n",
       "      <td>NaN</td>\n",
       "      <td>Gil1</td>\n",
       "      <td>assay format</td>\n",
       "    </tr>\n",
       "  </tbody>\n",
       "</table>\n",
       "</div>"
      ],
      "text/plain": [
       "  molecule_chembl_id                                   canonical_smiles  \\\n",
       "0         CHEMBL1730  CO/N=C(\\C(=O)N[C@@H]1C(=O)N2C(C(=O)O)=C(COC(C)...   \n",
       "2          CHEMBL617  CC(=O)OCC1=C(C(=O)O)N2C(=O)[C@@H](NC(=O)Cc3ccc...   \n",
       "3          CHEMBL702  CCN1CCN(C(=O)N[C@@H](C(=O)N[C@@H]2C(=O)N3[C@@H...   \n",
       "4         CHEMBL1449  CC1(C)S[C@@H]2[C@H](NC(=O)[C@H](C(=O)O)c3ccsc3...   \n",
       "5         CHEMBL1082  CC1(C)S[C@@H]2[C@H](NC(=O)[C@H](N)c3ccc(O)cc3)...   \n",
       "\n",
       "  standard_relation  standard_value standard_units standard_type  \\\n",
       "0                 =            10.0          /mM/s       Kcat/Km   \n",
       "2                 =           598.0          /mM/s       Kcat/Km   \n",
       "3                 =          3400.0          /mM/s       Kcat/Km   \n",
       "4                 =         10000.0          /mM/s       Kcat/Km   \n",
       "5                 =          4540.0          /mM/s       Kcat/Km   \n",
       "\n",
       "   pchembl_value target_pref_name     bao_label  \n",
       "0            NaN             Gil1  assay format  \n",
       "2            NaN             Gil1  assay format  \n",
       "3            NaN             Gil1  assay format  \n",
       "4            NaN             Gil1  assay format  \n",
       "5            NaN             Gil1  assay format  "
      ]
     },
     "execution_count": 2,
     "metadata": {},
     "output_type": "execute_result"
    }
   ],
   "source": [
    "df_filtered = df[df['standard_relation'] == '=']\n",
    "\n",
    "print(df_filtered.shape)\n",
    "df_filtered.head()"
   ]
  },
  {
   "cell_type": "markdown",
   "metadata": {
    "id": "zg46lPiyXi6E"
   },
   "source": [
    "### Aggregate the ChEMBL ID\n",
    "- If the standard deviation is greater than 2 => Remove it\n",
    "- If less, aggregate the value and use it as the main value"
   ]
  },
  {
   "cell_type": "code",
   "execution_count": 8,
   "metadata": {
    "colab": {
     "base_uri": "https://localhost:8080/",
     "height": 451
    },
    "id": "NxfxT0YiX8Ge",
    "outputId": "fd1e5c08-1437-4390-9e17-e657b3528512"
   },
   "outputs": [
    {
     "data": {
      "text/html": [
       "<div>\n",
       "<style scoped>\n",
       "    .dataframe tbody tr th:only-of-type {\n",
       "        vertical-align: middle;\n",
       "    }\n",
       "\n",
       "    .dataframe tbody tr th {\n",
       "        vertical-align: top;\n",
       "    }\n",
       "\n",
       "    .dataframe thead th {\n",
       "        text-align: right;\n",
       "    }\n",
       "</style>\n",
       "<table border=\"1\" class=\"dataframe\">\n",
       "  <thead>\n",
       "    <tr style=\"text-align: right;\">\n",
       "      <th></th>\n",
       "      <th>standard_value</th>\n",
       "      <th>pchembl_value</th>\n",
       "    </tr>\n",
       "    <tr>\n",
       "      <th>molecule_chembl_id</th>\n",
       "      <th></th>\n",
       "      <th></th>\n",
       "    </tr>\n",
       "  </thead>\n",
       "  <tbody>\n",
       "    <tr>\n",
       "      <th>CHEMBL1003</th>\n",
       "      <td>217250.500000</td>\n",
       "      <td>NaN</td>\n",
       "    </tr>\n",
       "    <tr>\n",
       "      <th>CHEMBL101476</th>\n",
       "      <td>12.000000</td>\n",
       "      <td>NaN</td>\n",
       "    </tr>\n",
       "    <tr>\n",
       "      <th>CHEMBL1018</th>\n",
       "      <td>316.200000</td>\n",
       "      <td>6.500000</td>\n",
       "    </tr>\n",
       "    <tr>\n",
       "      <th>CHEMBL102079</th>\n",
       "      <td>4.000000</td>\n",
       "      <td>NaN</td>\n",
       "    </tr>\n",
       "    <tr>\n",
       "      <th>CHEMBL102131</th>\n",
       "      <td>10.000000</td>\n",
       "      <td>NaN</td>\n",
       "    </tr>\n",
       "    <tr>\n",
       "      <th>...</th>\n",
       "      <td>...</td>\n",
       "      <td>...</td>\n",
       "    </tr>\n",
       "    <tr>\n",
       "      <th>CHEMBL97643</th>\n",
       "      <td>11220.200000</td>\n",
       "      <td>4.950000</td>\n",
       "    </tr>\n",
       "    <tr>\n",
       "      <th>CHEMBL977</th>\n",
       "      <td>631.000000</td>\n",
       "      <td>6.200000</td>\n",
       "    </tr>\n",
       "    <tr>\n",
       "      <th>CHEMBL98406</th>\n",
       "      <td>63095.700000</td>\n",
       "      <td>4.200000</td>\n",
       "    </tr>\n",
       "    <tr>\n",
       "      <th>CHEMBL995</th>\n",
       "      <td>14125.400000</td>\n",
       "      <td>4.850000</td>\n",
       "    </tr>\n",
       "    <tr>\n",
       "      <th>CHEMBL996</th>\n",
       "      <td>6599.468853</td>\n",
       "      <td>6.716667</td>\n",
       "    </tr>\n",
       "  </tbody>\n",
       "</table>\n",
       "<p>63934 rows × 2 columns</p>\n",
       "</div>"
      ],
      "text/plain": [
       "                    standard_value  pchembl_value\n",
       "molecule_chembl_id                               \n",
       "CHEMBL1003           217250.500000            NaN\n",
       "CHEMBL101476             12.000000            NaN\n",
       "CHEMBL1018              316.200000       6.500000\n",
       "CHEMBL102079              4.000000            NaN\n",
       "CHEMBL102131             10.000000            NaN\n",
       "...                            ...            ...\n",
       "CHEMBL97643           11220.200000       4.950000\n",
       "CHEMBL977               631.000000       6.200000\n",
       "CHEMBL98406           63095.700000       4.200000\n",
       "CHEMBL995             14125.400000       4.850000\n",
       "CHEMBL996              6599.468853       6.716667\n",
       "\n",
       "[63934 rows x 2 columns]"
      ]
     },
     "execution_count": 8,
     "metadata": {},
     "output_type": "execute_result"
    }
   ],
   "source": [
    "df_filtered.groupby('molecule_chembl_id').mean()"
   ]
  },
  {
   "cell_type": "code",
   "execution_count": 3,
   "metadata": {
    "colab": {
     "base_uri": "https://localhost:8080/",
     "height": 297
    },
    "id": "eyEndROmZRlG",
    "outputId": "8b0f848a-feba-4e95-df84-bfac8351bf95",
    "scrolled": true
   },
   "outputs": [
    {
     "data": {
      "text/html": [
       "<div>\n",
       "<style scoped>\n",
       "    .dataframe tbody tr th:only-of-type {\n",
       "        vertical-align: middle;\n",
       "    }\n",
       "\n",
       "    .dataframe tbody tr th {\n",
       "        vertical-align: top;\n",
       "    }\n",
       "\n",
       "    .dataframe thead th {\n",
       "        text-align: right;\n",
       "    }\n",
       "</style>\n",
       "<table border=\"1\" class=\"dataframe\">\n",
       "  <thead>\n",
       "    <tr style=\"text-align: right;\">\n",
       "      <th></th>\n",
       "      <th>molecule_chembl_id</th>\n",
       "      <th>standard_value</th>\n",
       "      <th>pchembl_value</th>\n",
       "    </tr>\n",
       "  </thead>\n",
       "  <tbody>\n",
       "    <tr>\n",
       "      <th>58168</th>\n",
       "      <td>CHEMBL166730</td>\n",
       "      <td>1.048551e+06</td>\n",
       "      <td>2.382950</td>\n",
       "    </tr>\n",
       "    <tr>\n",
       "      <th>58336</th>\n",
       "      <td>CHEMBL1795572</td>\n",
       "      <td>1.789093e+04</td>\n",
       "      <td>2.041429</td>\n",
       "    </tr>\n",
       "    <tr>\n",
       "      <th>62246</th>\n",
       "      <td>CHEMBL3234727</td>\n",
       "      <td>5.013387e+04</td>\n",
       "      <td>2.015254</td>\n",
       "    </tr>\n",
       "    <tr>\n",
       "      <th>62312</th>\n",
       "      <td>CHEMBL338933</td>\n",
       "      <td>4.571171e+04</td>\n",
       "      <td>2.020726</td>\n",
       "    </tr>\n",
       "    <tr>\n",
       "      <th>62791</th>\n",
       "      <td>CHEMBL4114669</td>\n",
       "      <td>1.557593e+04</td>\n",
       "      <td>2.232136</td>\n",
       "    </tr>\n",
       "    <tr>\n",
       "      <th>62801</th>\n",
       "      <td>CHEMBL4114749</td>\n",
       "      <td>2.605293e+03</td>\n",
       "      <td>2.141316</td>\n",
       "    </tr>\n",
       "    <tr>\n",
       "      <th>63099</th>\n",
       "      <td>CHEMBL4533632</td>\n",
       "      <td>3.604123e+03</td>\n",
       "      <td>2.283955</td>\n",
       "    </tr>\n",
       "    <tr>\n",
       "      <th>63736</th>\n",
       "      <td>CHEMBL67925</td>\n",
       "      <td>7.068239e+03</td>\n",
       "      <td>2.404163</td>\n",
       "    </tr>\n",
       "  </tbody>\n",
       "</table>\n",
       "</div>"
      ],
      "text/plain": [
       "      molecule_chembl_id  standard_value  pchembl_value\n",
       "58168       CHEMBL166730    1.048551e+06       2.382950\n",
       "58336      CHEMBL1795572    1.789093e+04       2.041429\n",
       "62246      CHEMBL3234727    5.013387e+04       2.015254\n",
       "62312       CHEMBL338933    4.571171e+04       2.020726\n",
       "62791      CHEMBL4114669    1.557593e+04       2.232136\n",
       "62801      CHEMBL4114749    2.605293e+03       2.141316\n",
       "63099      CHEMBL4533632    3.604123e+03       2.283955\n",
       "63736        CHEMBL67925    7.068239e+03       2.404163"
      ]
     },
     "execution_count": 3,
     "metadata": {},
     "output_type": "execute_result"
    }
   ],
   "source": [
    "pchembl_std = df_filtered.groupby('molecule_chembl_id').std().reset_index()\n",
    "pchembl_std[pchembl_std['pchembl_value'] > 2]"
   ]
  },
  {
   "cell_type": "code",
   "execution_count": 4,
   "metadata": {
    "colab": {
     "base_uri": "https://localhost:8080/"
    },
    "id": "hKWmcjY8YIbH",
    "outputId": "a97eaef3-3386-49b1-973e-c3481f65ce65"
   },
   "outputs": [
    {
     "data": {
      "text/plain": [
       "array(['CHEMBL166730', 'CHEMBL1795572', 'CHEMBL3234727', 'CHEMBL338933',\n",
       "       'CHEMBL4114669', 'CHEMBL4114749', 'CHEMBL4533632', 'CHEMBL67925'],\n",
       "      dtype=object)"
      ]
     },
     "execution_count": 4,
     "metadata": {},
     "output_type": "execute_result"
    }
   ],
   "source": [
    "remove_chembl_id = pchembl_std[pchembl_std['pchembl_value'] > 2].molecule_chembl_id.values\n",
    "remove_chembl_id"
   ]
  },
  {
   "cell_type": "code",
   "execution_count": 5,
   "metadata": {
    "colab": {
     "base_uri": "https://localhost:8080/",
     "height": 437
    },
    "id": "HLDD06HMZ1sn",
    "outputId": "3840bc5f-a330-41d5-e5ec-fcdfc4bd34be"
   },
   "outputs": [
    {
     "name": "stdout",
     "output_type": "stream",
     "text": [
      "(69448, 9)\n"
     ]
    },
    {
     "data": {
      "text/html": [
       "<div>\n",
       "<style scoped>\n",
       "    .dataframe tbody tr th:only-of-type {\n",
       "        vertical-align: middle;\n",
       "    }\n",
       "\n",
       "    .dataframe tbody tr th {\n",
       "        vertical-align: top;\n",
       "    }\n",
       "\n",
       "    .dataframe thead th {\n",
       "        text-align: right;\n",
       "    }\n",
       "</style>\n",
       "<table border=\"1\" class=\"dataframe\">\n",
       "  <thead>\n",
       "    <tr style=\"text-align: right;\">\n",
       "      <th></th>\n",
       "      <th>molecule_chembl_id</th>\n",
       "      <th>canonical_smiles</th>\n",
       "      <th>standard_relation</th>\n",
       "      <th>standard_value</th>\n",
       "      <th>standard_units</th>\n",
       "      <th>standard_type</th>\n",
       "      <th>pchembl_value</th>\n",
       "      <th>target_pref_name</th>\n",
       "      <th>bao_label</th>\n",
       "    </tr>\n",
       "  </thead>\n",
       "  <tbody>\n",
       "    <tr>\n",
       "      <th>676</th>\n",
       "      <td>CHEMBL1003</td>\n",
       "      <td>O=C([O-])[C@H]1/C(=C/CO)O[C@@H]2CC(=O)N21.[K+]</td>\n",
       "      <td>=</td>\n",
       "      <td>539000.0</td>\n",
       "      <td>nM</td>\n",
       "      <td>IC50</td>\n",
       "      <td>NaN</td>\n",
       "      <td>Beta-lactamase</td>\n",
       "      <td>single protein format</td>\n",
       "    </tr>\n",
       "    <tr>\n",
       "      <th>197</th>\n",
       "      <td>CHEMBL1003</td>\n",
       "      <td>O=C([O-])[C@H]1/C(=C/CO)O[C@@H]2CC(=O)N21.[K+]</td>\n",
       "      <td>=</td>\n",
       "      <td>1.0</td>\n",
       "      <td>NaN</td>\n",
       "      <td>Relative protection</td>\n",
       "      <td>NaN</td>\n",
       "      <td>Beta-lactamase</td>\n",
       "      <td>single protein format</td>\n",
       "    </tr>\n",
       "    <tr>\n",
       "      <th>687</th>\n",
       "      <td>CHEMBL1003</td>\n",
       "      <td>O=C([O-])[C@H]1/C(=C/CO)O[C@@H]2CC(=O)N21.[K+]</td>\n",
       "      <td>=</td>\n",
       "      <td>330000.0</td>\n",
       "      <td>nM</td>\n",
       "      <td>IC50</td>\n",
       "      <td>NaN</td>\n",
       "      <td>Beta-lactamase</td>\n",
       "      <td>single protein format</td>\n",
       "    </tr>\n",
       "    <tr>\n",
       "      <th>7</th>\n",
       "      <td>CHEMBL1003</td>\n",
       "      <td>O=C([O-])[C@H]1/C(=C/CO)O[C@@H]2CC(=O)N21.[K+]</td>\n",
       "      <td>=</td>\n",
       "      <td>1.0</td>\n",
       "      <td>NaN</td>\n",
       "      <td>Relative protection</td>\n",
       "      <td>NaN</td>\n",
       "      <td>Beta-lactamase</td>\n",
       "      <td>single protein format</td>\n",
       "    </tr>\n",
       "    <tr>\n",
       "      <th>9</th>\n",
       "      <td>CHEMBL101476</td>\n",
       "      <td>C[C@H](N)C(=O)NC[C@H]1OCC[C@H]1SC1=C(C(=O)[O-]...</td>\n",
       "      <td>=</td>\n",
       "      <td>12.0</td>\n",
       "      <td>NaN</td>\n",
       "      <td>Relative hydrolysis</td>\n",
       "      <td>NaN</td>\n",
       "      <td>Renal dipeptidase</td>\n",
       "      <td>single protein format</td>\n",
       "    </tr>\n",
       "    <tr>\n",
       "      <th>...</th>\n",
       "      <td>...</td>\n",
       "      <td>...</td>\n",
       "      <td>...</td>\n",
       "      <td>...</td>\n",
       "      <td>...</td>\n",
       "      <td>...</td>\n",
       "      <td>...</td>\n",
       "      <td>...</td>\n",
       "      <td>...</td>\n",
       "    </tr>\n",
       "    <tr>\n",
       "      <th>28</th>\n",
       "      <td>CHEMBL996</td>\n",
       "      <td>CO[C@@]1(NC(=O)Cc2cccs2)C(=O)N2C(C(=O)O)=C(COC...</td>\n",
       "      <td>=</td>\n",
       "      <td>1.0</td>\n",
       "      <td>10'6/M/s</td>\n",
       "      <td>Kcat/Km</td>\n",
       "      <td>NaN</td>\n",
       "      <td>Metallo-beta-lactamase VIM-2</td>\n",
       "      <td>single protein format</td>\n",
       "    </tr>\n",
       "    <tr>\n",
       "      <th>9</th>\n",
       "      <td>CHEMBL996</td>\n",
       "      <td>CO[C@@]1(NC(=O)Cc2cccs2)C(=O)N2C(C(=O)O)=C(COC...</td>\n",
       "      <td>=</td>\n",
       "      <td>1.0</td>\n",
       "      <td>/mM/s</td>\n",
       "      <td>Kcat/Km</td>\n",
       "      <td>NaN</td>\n",
       "      <td>Beta-lactamase</td>\n",
       "      <td>assay format</td>\n",
       "    </tr>\n",
       "    <tr>\n",
       "      <th>24</th>\n",
       "      <td>CHEMBL996</td>\n",
       "      <td>CO[C@@]1(NC(=O)Cc2cccs2)C(=O)N2C(C(=O)O)=C(COC...</td>\n",
       "      <td>=</td>\n",
       "      <td>1.0</td>\n",
       "      <td>/s</td>\n",
       "      <td>Kcat</td>\n",
       "      <td>NaN</td>\n",
       "      <td>Beta-lactamase NDM-1</td>\n",
       "      <td>single protein format</td>\n",
       "    </tr>\n",
       "    <tr>\n",
       "      <th>68</th>\n",
       "      <td>CHEMBL996</td>\n",
       "      <td>CO[C@@]1(NC(=O)Cc2cccs2)C(=O)N2C(C(=O)O)=C(COC...</td>\n",
       "      <td>=</td>\n",
       "      <td>500.0</td>\n",
       "      <td>U</td>\n",
       "      <td>Activity</td>\n",
       "      <td>NaN</td>\n",
       "      <td>Beta-lactamase</td>\n",
       "      <td>assay format</td>\n",
       "    </tr>\n",
       "    <tr>\n",
       "      <th>309</th>\n",
       "      <td>CHEMBL996</td>\n",
       "      <td>CO[C@@]1(NC(=O)Cc2cccs2)C(=O)N2C(C(=O)O)=C(COC...</td>\n",
       "      <td>=</td>\n",
       "      <td>3438.0</td>\n",
       "      <td>nmol/min</td>\n",
       "      <td>Activity</td>\n",
       "      <td>NaN</td>\n",
       "      <td>Beta-lactamase</td>\n",
       "      <td>single protein format</td>\n",
       "    </tr>\n",
       "  </tbody>\n",
       "</table>\n",
       "<p>69448 rows × 9 columns</p>\n",
       "</div>"
      ],
      "text/plain": [
       "    molecule_chembl_id                                   canonical_smiles  \\\n",
       "676         CHEMBL1003     O=C([O-])[C@H]1/C(=C/CO)O[C@@H]2CC(=O)N21.[K+]   \n",
       "197         CHEMBL1003     O=C([O-])[C@H]1/C(=C/CO)O[C@@H]2CC(=O)N21.[K+]   \n",
       "687         CHEMBL1003     O=C([O-])[C@H]1/C(=C/CO)O[C@@H]2CC(=O)N21.[K+]   \n",
       "7           CHEMBL1003     O=C([O-])[C@H]1/C(=C/CO)O[C@@H]2CC(=O)N21.[K+]   \n",
       "9         CHEMBL101476  C[C@H](N)C(=O)NC[C@H]1OCC[C@H]1SC1=C(C(=O)[O-]...   \n",
       "..                 ...                                                ...   \n",
       "28           CHEMBL996  CO[C@@]1(NC(=O)Cc2cccs2)C(=O)N2C(C(=O)O)=C(COC...   \n",
       "9            CHEMBL996  CO[C@@]1(NC(=O)Cc2cccs2)C(=O)N2C(C(=O)O)=C(COC...   \n",
       "24           CHEMBL996  CO[C@@]1(NC(=O)Cc2cccs2)C(=O)N2C(C(=O)O)=C(COC...   \n",
       "68           CHEMBL996  CO[C@@]1(NC(=O)Cc2cccs2)C(=O)N2C(C(=O)O)=C(COC...   \n",
       "309          CHEMBL996  CO[C@@]1(NC(=O)Cc2cccs2)C(=O)N2C(C(=O)O)=C(COC...   \n",
       "\n",
       "    standard_relation  standard_value standard_units        standard_type  \\\n",
       "676                 =        539000.0             nM                 IC50   \n",
       "197                 =             1.0            NaN  Relative protection   \n",
       "687                 =        330000.0             nM                 IC50   \n",
       "7                   =             1.0            NaN  Relative protection   \n",
       "9                   =            12.0            NaN  Relative hydrolysis   \n",
       "..                ...             ...            ...                  ...   \n",
       "28                  =             1.0       10'6/M/s              Kcat/Km   \n",
       "9                   =             1.0          /mM/s              Kcat/Km   \n",
       "24                  =             1.0             /s                 Kcat   \n",
       "68                  =           500.0              U             Activity   \n",
       "309                 =          3438.0       nmol/min             Activity   \n",
       "\n",
       "     pchembl_value              target_pref_name              bao_label  \n",
       "676            NaN                Beta-lactamase  single protein format  \n",
       "197            NaN                Beta-lactamase  single protein format  \n",
       "687            NaN                Beta-lactamase  single protein format  \n",
       "7              NaN                Beta-lactamase  single protein format  \n",
       "9              NaN             Renal dipeptidase  single protein format  \n",
       "..             ...                           ...                    ...  \n",
       "28             NaN  Metallo-beta-lactamase VIM-2  single protein format  \n",
       "9              NaN                Beta-lactamase           assay format  \n",
       "24             NaN          Beta-lactamase NDM-1  single protein format  \n",
       "68             NaN                Beta-lactamase           assay format  \n",
       "309            NaN                Beta-lactamase  single protein format  \n",
       "\n",
       "[69448 rows x 9 columns]"
      ]
     },
     "execution_count": 5,
     "metadata": {},
     "output_type": "execute_result"
    }
   ],
   "source": [
    "df_filtered = df_filtered[~df_filtered.molecule_chembl_id.isin(remove_chembl_id)]\n",
    "\n",
    "print(df_filtered.shape)\n",
    "df_filtered.sort_values('molecule_chembl_id')"
   ]
  },
  {
   "cell_type": "code",
   "execution_count": 6,
   "metadata": {
    "id": "dRgXUtoecg2U"
   },
   "outputs": [],
   "source": [
    "agg_id = df_filtered.groupby('molecule_chembl_id').agg(['std', 'mean']).reset_index()['molecule_chembl_id']"
   ]
  },
  {
   "cell_type": "code",
   "execution_count": 7,
   "metadata": {
    "id": "7C-gwcdub3SU"
   },
   "outputs": [],
   "source": [
    "agg_res = df_filtered.groupby('molecule_chembl_id').agg(['std', 'mean']).reset_index()['pchembl_value']"
   ]
  },
  {
   "cell_type": "code",
   "execution_count": 8,
   "metadata": {
    "colab": {
     "base_uri": "https://localhost:8080/",
     "height": 221
    },
    "id": "fb-X4c3O26sv",
    "outputId": "dac15154-88ad-437d-9831-9597390333f3"
   },
   "outputs": [
    {
     "name": "stdout",
     "output_type": "stream",
     "text": [
      "(63926, 3)\n"
     ]
    },
    {
     "data": {
      "text/html": [
       "<div>\n",
       "<style scoped>\n",
       "    .dataframe tbody tr th:only-of-type {\n",
       "        vertical-align: middle;\n",
       "    }\n",
       "\n",
       "    .dataframe tbody tr th {\n",
       "        vertical-align: top;\n",
       "    }\n",
       "\n",
       "    .dataframe thead th {\n",
       "        text-align: right;\n",
       "    }\n",
       "</style>\n",
       "<table border=\"1\" class=\"dataframe\">\n",
       "  <thead>\n",
       "    <tr style=\"text-align: right;\">\n",
       "      <th></th>\n",
       "      <th>molecule_chembl_id</th>\n",
       "      <th>std</th>\n",
       "      <th>mean</th>\n",
       "    </tr>\n",
       "  </thead>\n",
       "  <tbody>\n",
       "    <tr>\n",
       "      <th>0</th>\n",
       "      <td>CHEMBL1003</td>\n",
       "      <td>NaN</td>\n",
       "      <td>NaN</td>\n",
       "    </tr>\n",
       "    <tr>\n",
       "      <th>1</th>\n",
       "      <td>CHEMBL101476</td>\n",
       "      <td>NaN</td>\n",
       "      <td>NaN</td>\n",
       "    </tr>\n",
       "    <tr>\n",
       "      <th>2</th>\n",
       "      <td>CHEMBL1018</td>\n",
       "      <td>NaN</td>\n",
       "      <td>6.5</td>\n",
       "    </tr>\n",
       "    <tr>\n",
       "      <th>3</th>\n",
       "      <td>CHEMBL102079</td>\n",
       "      <td>NaN</td>\n",
       "      <td>NaN</td>\n",
       "    </tr>\n",
       "    <tr>\n",
       "      <th>4</th>\n",
       "      <td>CHEMBL102131</td>\n",
       "      <td>NaN</td>\n",
       "      <td>NaN</td>\n",
       "    </tr>\n",
       "  </tbody>\n",
       "</table>\n",
       "</div>"
      ],
      "text/plain": [
       "  molecule_chembl_id  std  mean\n",
       "0         CHEMBL1003  NaN   NaN\n",
       "1       CHEMBL101476  NaN   NaN\n",
       "2         CHEMBL1018  NaN   6.5\n",
       "3       CHEMBL102079  NaN   NaN\n",
       "4       CHEMBL102131  NaN   NaN"
      ]
     },
     "execution_count": 8,
     "metadata": {},
     "output_type": "execute_result"
    }
   ],
   "source": [
    "df_agg = pd.concat([agg_id, agg_res], axis=1)\n",
    "print(df_agg.shape)\n",
    "df_agg.head()"
   ]
  },
  {
   "cell_type": "code",
   "execution_count": 9,
   "metadata": {
    "colab": {
     "base_uri": "https://localhost:8080/",
     "height": 221
    },
    "id": "Q7UQYoDK28Aq",
    "outputId": "1da0adbe-4d07-4dcc-bc9b-d5c3f0637953"
   },
   "outputs": [
    {
     "name": "stdout",
     "output_type": "stream",
     "text": [
      "(63926, 2)\n"
     ]
    },
    {
     "data": {
      "text/html": [
       "<div>\n",
       "<style scoped>\n",
       "    .dataframe tbody tr th:only-of-type {\n",
       "        vertical-align: middle;\n",
       "    }\n",
       "\n",
       "    .dataframe tbody tr th {\n",
       "        vertical-align: top;\n",
       "    }\n",
       "\n",
       "    .dataframe thead th {\n",
       "        text-align: right;\n",
       "    }\n",
       "</style>\n",
       "<table border=\"1\" class=\"dataframe\">\n",
       "  <thead>\n",
       "    <tr style=\"text-align: right;\">\n",
       "      <th></th>\n",
       "      <th>molecule_chembl_id</th>\n",
       "      <th>canonical_smiles</th>\n",
       "    </tr>\n",
       "  </thead>\n",
       "  <tbody>\n",
       "    <tr>\n",
       "      <th>0</th>\n",
       "      <td>CHEMBL1730</td>\n",
       "      <td>CO/N=C(\\C(=O)N[C@@H]1C(=O)N2C(C(=O)O)=C(COC(C)...</td>\n",
       "    </tr>\n",
       "    <tr>\n",
       "      <th>2</th>\n",
       "      <td>CHEMBL617</td>\n",
       "      <td>CC(=O)OCC1=C(C(=O)O)N2C(=O)[C@@H](NC(=O)Cc3ccc...</td>\n",
       "    </tr>\n",
       "    <tr>\n",
       "      <th>3</th>\n",
       "      <td>CHEMBL702</td>\n",
       "      <td>CCN1CCN(C(=O)N[C@@H](C(=O)N[C@@H]2C(=O)N3[C@@H...</td>\n",
       "    </tr>\n",
       "    <tr>\n",
       "      <th>4</th>\n",
       "      <td>CHEMBL1449</td>\n",
       "      <td>CC1(C)S[C@@H]2[C@H](NC(=O)[C@H](C(=O)O)c3ccsc3...</td>\n",
       "    </tr>\n",
       "    <tr>\n",
       "      <th>5</th>\n",
       "      <td>CHEMBL1082</td>\n",
       "      <td>CC1(C)S[C@@H]2[C@H](NC(=O)[C@H](N)c3ccc(O)cc3)...</td>\n",
       "    </tr>\n",
       "  </tbody>\n",
       "</table>\n",
       "</div>"
      ],
      "text/plain": [
       "  molecule_chembl_id                                   canonical_smiles\n",
       "0         CHEMBL1730  CO/N=C(\\C(=O)N[C@@H]1C(=O)N2C(C(=O)O)=C(COC(C)...\n",
       "2          CHEMBL617  CC(=O)OCC1=C(C(=O)O)N2C(=O)[C@@H](NC(=O)Cc3ccc...\n",
       "3          CHEMBL702  CCN1CCN(C(=O)N[C@@H](C(=O)N[C@@H]2C(=O)N3[C@@H...\n",
       "4         CHEMBL1449  CC1(C)S[C@@H]2[C@H](NC(=O)[C@H](C(=O)O)c3ccsc3...\n",
       "5         CHEMBL1082  CC1(C)S[C@@H]2[C@H](NC(=O)[C@H](N)c3ccc(O)cc3)..."
      ]
     },
     "execution_count": 9,
     "metadata": {},
     "output_type": "execute_result"
    }
   ],
   "source": [
    "df_smiles = df_filtered[['molecule_chembl_id', 'canonical_smiles']].drop_duplicates()\n",
    "print(df_smiles.shape)\n",
    "df_smiles.head()"
   ]
  },
  {
   "cell_type": "code",
   "execution_count": 10,
   "metadata": {
    "colab": {
     "base_uri": "https://localhost:8080/",
     "height": 221
    },
    "id": "-R_vx4i1dXQW",
    "outputId": "3e9239b0-5a6c-44ed-e5bf-789bbe8f9062"
   },
   "outputs": [
    {
     "name": "stdout",
     "output_type": "stream",
     "text": [
      "(63014, 3)\n"
     ]
    },
    {
     "data": {
      "text/html": [
       "<div>\n",
       "<style scoped>\n",
       "    .dataframe tbody tr th:only-of-type {\n",
       "        vertical-align: middle;\n",
       "    }\n",
       "\n",
       "    .dataframe tbody tr th {\n",
       "        vertical-align: top;\n",
       "    }\n",
       "\n",
       "    .dataframe thead th {\n",
       "        text-align: right;\n",
       "    }\n",
       "</style>\n",
       "<table border=\"1\" class=\"dataframe\">\n",
       "  <thead>\n",
       "    <tr style=\"text-align: right;\">\n",
       "      <th></th>\n",
       "      <th>chembl_id</th>\n",
       "      <th>smiles</th>\n",
       "      <th>pchembl_value</th>\n",
       "    </tr>\n",
       "  </thead>\n",
       "  <tbody>\n",
       "    <tr>\n",
       "      <th>0</th>\n",
       "      <td>CHEMBL1730</td>\n",
       "      <td>CO/N=C(\\C(=O)N[C@@H]1C(=O)N2C(C(=O)O)=C(COC(C)...</td>\n",
       "      <td>5.95</td>\n",
       "    </tr>\n",
       "    <tr>\n",
       "      <th>2</th>\n",
       "      <td>CHEMBL702</td>\n",
       "      <td>CCN1CCN(C(=O)N[C@@H](C(=O)N[C@@H]2C(=O)N3[C@@H...</td>\n",
       "      <td>6.70</td>\n",
       "    </tr>\n",
       "    <tr>\n",
       "      <th>4</th>\n",
       "      <td>CHEMBL1082</td>\n",
       "      <td>CC1(C)S[C@@H]2[C@H](NC(=O)[C@H](N)c3ccc(O)cc3)...</td>\n",
       "      <td>4.45</td>\n",
       "    </tr>\n",
       "    <tr>\n",
       "      <th>5</th>\n",
       "      <td>CHEMBL29</td>\n",
       "      <td>CC1(C)S[C@@H]2[C@H](NC(=O)Cc3ccccc3)C(=O)N2[C@...</td>\n",
       "      <td>4.70</td>\n",
       "    </tr>\n",
       "    <tr>\n",
       "      <th>6</th>\n",
       "      <td>CHEMBL148</td>\n",
       "      <td>C[C@@H](O)[C@H]1C(=O)N2C(C(=O)O)=C(SCCNC=N)C[C...</td>\n",
       "      <td>7.02</td>\n",
       "    </tr>\n",
       "  </tbody>\n",
       "</table>\n",
       "</div>"
      ],
      "text/plain": [
       "    chembl_id                                             smiles  \\\n",
       "0  CHEMBL1730  CO/N=C(\\C(=O)N[C@@H]1C(=O)N2C(C(=O)O)=C(COC(C)...   \n",
       "2   CHEMBL702  CCN1CCN(C(=O)N[C@@H](C(=O)N[C@@H]2C(=O)N3[C@@H...   \n",
       "4  CHEMBL1082  CC1(C)S[C@@H]2[C@H](NC(=O)[C@H](N)c3ccc(O)cc3)...   \n",
       "5    CHEMBL29  CC1(C)S[C@@H]2[C@H](NC(=O)Cc3ccccc3)C(=O)N2[C@...   \n",
       "6   CHEMBL148  C[C@@H](O)[C@H]1C(=O)N2C(C(=O)O)=C(SCCNC=N)C[C...   \n",
       "\n",
       "   pchembl_value  \n",
       "0           5.95  \n",
       "2           6.70  \n",
       "4           4.45  \n",
       "5           4.70  \n",
       "6           7.02  "
      ]
     },
     "execution_count": 10,
     "metadata": {},
     "output_type": "execute_result"
    }
   ],
   "source": [
    "df_clean = df_smiles.merge(df_agg, on='molecule_chembl_id')\n",
    "df_clean = df_clean.drop('std', axis=1)\n",
    "df_clean.columns = ['chembl_id', 'smiles', 'pchembl_value']\n",
    "df_clean = df_clean.dropna()\n",
    "print(df_clean.shape)\n",
    "df_clean.head()"
   ]
  },
  {
   "cell_type": "code",
   "execution_count": 11,
   "metadata": {
    "colab": {
     "base_uri": "https://localhost:8080/"
    },
    "id": "ExH0259u3lxF",
    "outputId": "c979f2a7-efd0-40bb-f5f5-b694d33a0580"
   },
   "outputs": [
    {
     "data": {
      "text/plain": [
       "chembl_id        0\n",
       "smiles           0\n",
       "pchembl_value    0\n",
       "dtype: int64"
      ]
     },
     "execution_count": 11,
     "metadata": {},
     "output_type": "execute_result"
    }
   ],
   "source": [
    "df_clean.isnull().sum()"
   ]
  },
  {
   "cell_type": "markdown",
   "metadata": {
    "id": "uj81HUY54iva"
   },
   "source": [
    "## Feature Extraction using Padelpy"
   ]
  },
  {
   "cell_type": "code",
   "execution_count": 20,
   "metadata": {
    "colab": {
     "base_uri": "https://localhost:8080/",
     "height": 204
    },
    "id": "JolMa1Kw6Uab",
    "outputId": "ff3e748a-7413-41f1-9d76-05ff182471d4"
   },
   "outputs": [
    {
     "data": {
      "text/html": [
       "<div>\n",
       "<style scoped>\n",
       "    .dataframe tbody tr th:only-of-type {\n",
       "        vertical-align: middle;\n",
       "    }\n",
       "\n",
       "    .dataframe tbody tr th {\n",
       "        vertical-align: top;\n",
       "    }\n",
       "\n",
       "    .dataframe thead th {\n",
       "        text-align: right;\n",
       "    }\n",
       "</style>\n",
       "<table border=\"1\" class=\"dataframe\">\n",
       "  <thead>\n",
       "    <tr style=\"text-align: right;\">\n",
       "      <th></th>\n",
       "      <th>chembl_id</th>\n",
       "      <th>smiles</th>\n",
       "      <th>pchembl_value</th>\n",
       "    </tr>\n",
       "  </thead>\n",
       "  <tbody>\n",
       "    <tr>\n",
       "      <th>0</th>\n",
       "      <td>CHEMBL1730</td>\n",
       "      <td>CO/N=C(\\C(=O)N[C@@H]1C(=O)N2C(C(=O)O)=C(COC(C)...</td>\n",
       "      <td>5.95</td>\n",
       "    </tr>\n",
       "    <tr>\n",
       "      <th>2</th>\n",
       "      <td>CHEMBL702</td>\n",
       "      <td>CCN1CCN(C(=O)N[C@@H](C(=O)N[C@@H]2C(=O)N3[C@@H...</td>\n",
       "      <td>6.70</td>\n",
       "    </tr>\n",
       "    <tr>\n",
       "      <th>4</th>\n",
       "      <td>CHEMBL1082</td>\n",
       "      <td>CC1(C)S[C@@H]2[C@H](NC(=O)[C@H](N)c3ccc(O)cc3)...</td>\n",
       "      <td>4.45</td>\n",
       "    </tr>\n",
       "    <tr>\n",
       "      <th>5</th>\n",
       "      <td>CHEMBL29</td>\n",
       "      <td>CC1(C)S[C@@H]2[C@H](NC(=O)Cc3ccccc3)C(=O)N2[C@...</td>\n",
       "      <td>4.70</td>\n",
       "    </tr>\n",
       "    <tr>\n",
       "      <th>6</th>\n",
       "      <td>CHEMBL148</td>\n",
       "      <td>C[C@@H](O)[C@H]1C(=O)N2C(C(=O)O)=C(SCCNC=N)C[C...</td>\n",
       "      <td>7.02</td>\n",
       "    </tr>\n",
       "  </tbody>\n",
       "</table>\n",
       "</div>"
      ],
      "text/plain": [
       "    chembl_id                                             smiles  \\\n",
       "0  CHEMBL1730  CO/N=C(\\C(=O)N[C@@H]1C(=O)N2C(C(=O)O)=C(COC(C)...   \n",
       "2   CHEMBL702  CCN1CCN(C(=O)N[C@@H](C(=O)N[C@@H]2C(=O)N3[C@@H...   \n",
       "4  CHEMBL1082  CC1(C)S[C@@H]2[C@H](NC(=O)[C@H](N)c3ccc(O)cc3)...   \n",
       "5    CHEMBL29  CC1(C)S[C@@H]2[C@H](NC(=O)Cc3ccccc3)C(=O)N2[C@...   \n",
       "6   CHEMBL148  C[C@@H](O)[C@H]1C(=O)N2C(C(=O)O)=C(SCCNC=N)C[C...   \n",
       "\n",
       "   pchembl_value  \n",
       "0           5.95  \n",
       "2           6.70  \n",
       "4           4.45  \n",
       "5           4.70  \n",
       "6           7.02  "
      ]
     },
     "execution_count": 20,
     "metadata": {},
     "output_type": "execute_result"
    }
   ],
   "source": [
    "df_clean.head()"
   ]
  },
  {
   "cell_type": "code",
   "execution_count": 21,
   "metadata": {
    "colab": {
     "base_uri": "https://localhost:8080/"
    },
    "id": "0a5pfnmd4wv8",
    "outputId": "d86aa6ff-c402-4fb1-b361-34e17e41714d"
   },
   "outputs": [
    {
     "name": "stdout",
     "output_type": "stream",
     "text": [
      "Collecting padelpy\n",
      "  Downloading padelpy-0.1.10-py2.py3-none-any.whl (20.9 MB)\n",
      "Installing collected packages: padelpy\n",
      "Successfully installed padelpy-0.1.10\n"
     ]
    }
   ],
   "source": [
    "! pip install padelpy"
   ]
  },
  {
   "cell_type": "code",
   "execution_count": 22,
   "metadata": {
    "id": "5qmMPeA85DVQ"
   },
   "outputs": [],
   "source": [
    "from padelpy import padeldescriptor\n",
    "\n",
    "fingerprint = 'pubchem'\n",
    "output_file = ''.join([fingerprint, '.csv'])\n",
    "descriptor = 'PubchemFingerprinter.xml'"
   ]
  },
  {
   "cell_type": "code",
   "execution_count": 23,
   "metadata": {
    "colab": {
     "base_uri": "https://localhost:8080/",
     "height": 204
    },
    "id": "lxnXg1Pt8ckm",
    "outputId": "c3db6f6c-9279-4ceb-abf3-39258c8b3e15"
   },
   "outputs": [
    {
     "data": {
      "text/html": [
       "<div>\n",
       "<style scoped>\n",
       "    .dataframe tbody tr th:only-of-type {\n",
       "        vertical-align: middle;\n",
       "    }\n",
       "\n",
       "    .dataframe tbody tr th {\n",
       "        vertical-align: top;\n",
       "    }\n",
       "\n",
       "    .dataframe thead th {\n",
       "        text-align: right;\n",
       "    }\n",
       "</style>\n",
       "<table border=\"1\" class=\"dataframe\">\n",
       "  <thead>\n",
       "    <tr style=\"text-align: right;\">\n",
       "      <th></th>\n",
       "      <th>smiles</th>\n",
       "      <th>chembl_id</th>\n",
       "    </tr>\n",
       "  </thead>\n",
       "  <tbody>\n",
       "    <tr>\n",
       "      <th>0</th>\n",
       "      <td>CO/N=C(\\C(=O)N[C@@H]1C(=O)N2C(C(=O)O)=C(COC(C)...</td>\n",
       "      <td>CHEMBL1730</td>\n",
       "    </tr>\n",
       "    <tr>\n",
       "      <th>2</th>\n",
       "      <td>CCN1CCN(C(=O)N[C@@H](C(=O)N[C@@H]2C(=O)N3[C@@H...</td>\n",
       "      <td>CHEMBL702</td>\n",
       "    </tr>\n",
       "    <tr>\n",
       "      <th>4</th>\n",
       "      <td>CC1(C)S[C@@H]2[C@H](NC(=O)[C@H](N)c3ccc(O)cc3)...</td>\n",
       "      <td>CHEMBL1082</td>\n",
       "    </tr>\n",
       "    <tr>\n",
       "      <th>5</th>\n",
       "      <td>CC1(C)S[C@@H]2[C@H](NC(=O)Cc3ccccc3)C(=O)N2[C@...</td>\n",
       "      <td>CHEMBL29</td>\n",
       "    </tr>\n",
       "    <tr>\n",
       "      <th>6</th>\n",
       "      <td>C[C@@H](O)[C@H]1C(=O)N2C(C(=O)O)=C(SCCNC=N)C[C...</td>\n",
       "      <td>CHEMBL148</td>\n",
       "    </tr>\n",
       "  </tbody>\n",
       "</table>\n",
       "</div>"
      ],
      "text/plain": [
       "                                              smiles   chembl_id\n",
       "0  CO/N=C(\\C(=O)N[C@@H]1C(=O)N2C(C(=O)O)=C(COC(C)...  CHEMBL1730\n",
       "2  CCN1CCN(C(=O)N[C@@H](C(=O)N[C@@H]2C(=O)N3[C@@H...   CHEMBL702\n",
       "4  CC1(C)S[C@@H]2[C@H](NC(=O)[C@H](N)c3ccc(O)cc3)...  CHEMBL1082\n",
       "5  CC1(C)S[C@@H]2[C@H](NC(=O)Cc3ccccc3)C(=O)N2[C@...    CHEMBL29\n",
       "6  C[C@@H](O)[C@H]1C(=O)N2C(C(=O)O)=C(SCCNC=N)C[C...   CHEMBL148"
      ]
     },
     "execution_count": 23,
     "metadata": {},
     "output_type": "execute_result"
    }
   ],
   "source": [
    "df2 = df_clean[['smiles', 'chembl_id']]\n",
    "df2.to_csv('molecule.smi', sep='\\t', header=False, index=False)\n",
    "df2.head()"
   ]
  },
  {
   "cell_type": "code",
   "execution_count": null,
   "metadata": {
    "id": "VAKh5S5n9nDb"
   },
   "outputs": [],
   "source": [
    "! wget https://github.com/dataprofessor/padel/blob/main/fingerprints_xml.zip"
   ]
  },
  {
   "cell_type": "code",
   "execution_count": 24,
   "metadata": {
    "id": "nPoxih-U8rd6"
   },
   "outputs": [],
   "source": [
    "padeldescriptor(d_file='pubchem_fingerprint.csv', mol_dir='molecule.smi', descriptortypes=descriptor, fingerprints=True, log=True)"
   ]
  },
  {
   "cell_type": "code",
   "execution_count": 12,
   "metadata": {
    "colab": {
     "base_uri": "https://localhost:8080/",
     "height": 253
    },
    "id": "ZqvDUO6Onaf_",
    "outputId": "5888ce0b-c2b6-4574-df9b-d79819bd3cc5"
   },
   "outputs": [
    {
     "data": {
      "text/html": [
       "<div>\n",
       "<style scoped>\n",
       "    .dataframe tbody tr th:only-of-type {\n",
       "        vertical-align: middle;\n",
       "    }\n",
       "\n",
       "    .dataframe tbody tr th {\n",
       "        vertical-align: top;\n",
       "    }\n",
       "\n",
       "    .dataframe thead th {\n",
       "        text-align: right;\n",
       "    }\n",
       "</style>\n",
       "<table border=\"1\" class=\"dataframe\">\n",
       "  <thead>\n",
       "    <tr style=\"text-align: right;\">\n",
       "      <th></th>\n",
       "      <th>Name</th>\n",
       "      <th>PubchemFP0</th>\n",
       "      <th>PubchemFP1</th>\n",
       "      <th>PubchemFP2</th>\n",
       "      <th>PubchemFP3</th>\n",
       "      <th>PubchemFP4</th>\n",
       "      <th>PubchemFP5</th>\n",
       "      <th>PubchemFP6</th>\n",
       "      <th>PubchemFP7</th>\n",
       "      <th>PubchemFP8</th>\n",
       "      <th>...</th>\n",
       "      <th>PubchemFP871</th>\n",
       "      <th>PubchemFP872</th>\n",
       "      <th>PubchemFP873</th>\n",
       "      <th>PubchemFP874</th>\n",
       "      <th>PubchemFP875</th>\n",
       "      <th>PubchemFP876</th>\n",
       "      <th>PubchemFP877</th>\n",
       "      <th>PubchemFP878</th>\n",
       "      <th>PubchemFP879</th>\n",
       "      <th>PubchemFP880</th>\n",
       "    </tr>\n",
       "  </thead>\n",
       "  <tbody>\n",
       "    <tr>\n",
       "      <th>0</th>\n",
       "      <td>CHEMBL777</td>\n",
       "      <td>1.0</td>\n",
       "      <td>1.0</td>\n",
       "      <td>0.0</td>\n",
       "      <td>0.0</td>\n",
       "      <td>0.0</td>\n",
       "      <td>0.0</td>\n",
       "      <td>0.0</td>\n",
       "      <td>0.0</td>\n",
       "      <td>0.0</td>\n",
       "      <td>...</td>\n",
       "      <td>0.0</td>\n",
       "      <td>0.0</td>\n",
       "      <td>0.0</td>\n",
       "      <td>0.0</td>\n",
       "      <td>0.0</td>\n",
       "      <td>0.0</td>\n",
       "      <td>0.0</td>\n",
       "      <td>0.0</td>\n",
       "      <td>0.0</td>\n",
       "      <td>0.0</td>\n",
       "    </tr>\n",
       "    <tr>\n",
       "      <th>1</th>\n",
       "      <td>CHEMBL404</td>\n",
       "      <td>1.0</td>\n",
       "      <td>1.0</td>\n",
       "      <td>0.0</td>\n",
       "      <td>0.0</td>\n",
       "      <td>0.0</td>\n",
       "      <td>0.0</td>\n",
       "      <td>0.0</td>\n",
       "      <td>0.0</td>\n",
       "      <td>0.0</td>\n",
       "      <td>...</td>\n",
       "      <td>0.0</td>\n",
       "      <td>0.0</td>\n",
       "      <td>0.0</td>\n",
       "      <td>0.0</td>\n",
       "      <td>0.0</td>\n",
       "      <td>0.0</td>\n",
       "      <td>0.0</td>\n",
       "      <td>0.0</td>\n",
       "      <td>0.0</td>\n",
       "      <td>0.0</td>\n",
       "    </tr>\n",
       "    <tr>\n",
       "      <th>2</th>\n",
       "      <td>CHEMBL158</td>\n",
       "      <td>1.0</td>\n",
       "      <td>1.0</td>\n",
       "      <td>1.0</td>\n",
       "      <td>0.0</td>\n",
       "      <td>0.0</td>\n",
       "      <td>0.0</td>\n",
       "      <td>0.0</td>\n",
       "      <td>0.0</td>\n",
       "      <td>0.0</td>\n",
       "      <td>...</td>\n",
       "      <td>0.0</td>\n",
       "      <td>0.0</td>\n",
       "      <td>0.0</td>\n",
       "      <td>0.0</td>\n",
       "      <td>0.0</td>\n",
       "      <td>0.0</td>\n",
       "      <td>0.0</td>\n",
       "      <td>0.0</td>\n",
       "      <td>0.0</td>\n",
       "      <td>0.0</td>\n",
       "    </tr>\n",
       "    <tr>\n",
       "      <th>3</th>\n",
       "      <td>CHEMBL148</td>\n",
       "      <td>1.0</td>\n",
       "      <td>1.0</td>\n",
       "      <td>1.0</td>\n",
       "      <td>0.0</td>\n",
       "      <td>0.0</td>\n",
       "      <td>0.0</td>\n",
       "      <td>0.0</td>\n",
       "      <td>0.0</td>\n",
       "      <td>0.0</td>\n",
       "      <td>...</td>\n",
       "      <td>0.0</td>\n",
       "      <td>0.0</td>\n",
       "      <td>0.0</td>\n",
       "      <td>0.0</td>\n",
       "      <td>0.0</td>\n",
       "      <td>0.0</td>\n",
       "      <td>0.0</td>\n",
       "      <td>0.0</td>\n",
       "      <td>0.0</td>\n",
       "      <td>0.0</td>\n",
       "    </tr>\n",
       "    <tr>\n",
       "      <th>4</th>\n",
       "      <td>CHEMBL1730</td>\n",
       "      <td>1.0</td>\n",
       "      <td>1.0</td>\n",
       "      <td>1.0</td>\n",
       "      <td>0.0</td>\n",
       "      <td>0.0</td>\n",
       "      <td>0.0</td>\n",
       "      <td>0.0</td>\n",
       "      <td>0.0</td>\n",
       "      <td>0.0</td>\n",
       "      <td>...</td>\n",
       "      <td>0.0</td>\n",
       "      <td>0.0</td>\n",
       "      <td>0.0</td>\n",
       "      <td>0.0</td>\n",
       "      <td>0.0</td>\n",
       "      <td>0.0</td>\n",
       "      <td>0.0</td>\n",
       "      <td>0.0</td>\n",
       "      <td>0.0</td>\n",
       "      <td>0.0</td>\n",
       "    </tr>\n",
       "  </tbody>\n",
       "</table>\n",
       "<p>5 rows × 882 columns</p>\n",
       "</div>"
      ],
      "text/plain": [
       "         Name  PubchemFP0  PubchemFP1  PubchemFP2  PubchemFP3  PubchemFP4  \\\n",
       "0   CHEMBL777         1.0         1.0         0.0         0.0         0.0   \n",
       "1   CHEMBL404         1.0         1.0         0.0         0.0         0.0   \n",
       "2   CHEMBL158         1.0         1.0         1.0         0.0         0.0   \n",
       "3   CHEMBL148         1.0         1.0         1.0         0.0         0.0   \n",
       "4  CHEMBL1730         1.0         1.0         1.0         0.0         0.0   \n",
       "\n",
       "   PubchemFP5  PubchemFP6  PubchemFP7  PubchemFP8  ...  PubchemFP871  \\\n",
       "0         0.0         0.0         0.0         0.0  ...           0.0   \n",
       "1         0.0         0.0         0.0         0.0  ...           0.0   \n",
       "2         0.0         0.0         0.0         0.0  ...           0.0   \n",
       "3         0.0         0.0         0.0         0.0  ...           0.0   \n",
       "4         0.0         0.0         0.0         0.0  ...           0.0   \n",
       "\n",
       "   PubchemFP872  PubchemFP873  PubchemFP874  PubchemFP875  PubchemFP876  \\\n",
       "0           0.0           0.0           0.0           0.0           0.0   \n",
       "1           0.0           0.0           0.0           0.0           0.0   \n",
       "2           0.0           0.0           0.0           0.0           0.0   \n",
       "3           0.0           0.0           0.0           0.0           0.0   \n",
       "4           0.0           0.0           0.0           0.0           0.0   \n",
       "\n",
       "   PubchemFP877  PubchemFP878  PubchemFP879  PubchemFP880  \n",
       "0           0.0           0.0           0.0           0.0  \n",
       "1           0.0           0.0           0.0           0.0  \n",
       "2           0.0           0.0           0.0           0.0  \n",
       "3           0.0           0.0           0.0           0.0  \n",
       "4           0.0           0.0           0.0           0.0  \n",
       "\n",
       "[5 rows x 882 columns]"
      ]
     },
     "execution_count": 12,
     "metadata": {},
     "output_type": "execute_result"
    }
   ],
   "source": [
    "df_fp = pd.read_csv('pubchem_fingerprint.csv')\n",
    "df_fp.head()"
   ]
  },
  {
   "cell_type": "code",
   "execution_count": 13,
   "metadata": {
    "colab": {
     "base_uri": "https://localhost:8080/"
    },
    "id": "hVQdXsFlnjtK",
    "outputId": "bf4280dc-4adf-4c0e-82bf-b21a35c9eb19"
   },
   "outputs": [
    {
     "name": "stdout",
     "output_type": "stream",
     "text": [
      "(63014, 882)\n"
     ]
    }
   ],
   "source": [
    "print(df_fp.shape)"
   ]
  },
  {
   "cell_type": "code",
   "execution_count": 14,
   "metadata": {
    "colab": {
     "base_uri": "https://localhost:8080/",
     "height": 270
    },
    "id": "R6lxZk5Inm6X",
    "outputId": "ff3a3f6c-2a09-475d-c873-a4f8dd4655e4"
   },
   "outputs": [
    {
     "name": "stdout",
     "output_type": "stream",
     "text": [
      "(63013, 883)\n"
     ]
    },
    {
     "data": {
      "text/html": [
       "<div>\n",
       "<style scoped>\n",
       "    .dataframe tbody tr th:only-of-type {\n",
       "        vertical-align: middle;\n",
       "    }\n",
       "\n",
       "    .dataframe tbody tr th {\n",
       "        vertical-align: top;\n",
       "    }\n",
       "\n",
       "    .dataframe thead th {\n",
       "        text-align: right;\n",
       "    }\n",
       "</style>\n",
       "<table border=\"1\" class=\"dataframe\">\n",
       "  <thead>\n",
       "    <tr style=\"text-align: right;\">\n",
       "      <th></th>\n",
       "      <th>Name</th>\n",
       "      <th>PubchemFP0</th>\n",
       "      <th>PubchemFP1</th>\n",
       "      <th>PubchemFP2</th>\n",
       "      <th>PubchemFP3</th>\n",
       "      <th>PubchemFP4</th>\n",
       "      <th>PubchemFP5</th>\n",
       "      <th>PubchemFP6</th>\n",
       "      <th>PubchemFP7</th>\n",
       "      <th>PubchemFP8</th>\n",
       "      <th>...</th>\n",
       "      <th>PubchemFP872</th>\n",
       "      <th>PubchemFP873</th>\n",
       "      <th>PubchemFP874</th>\n",
       "      <th>PubchemFP875</th>\n",
       "      <th>PubchemFP876</th>\n",
       "      <th>PubchemFP877</th>\n",
       "      <th>PubchemFP878</th>\n",
       "      <th>PubchemFP879</th>\n",
       "      <th>PubchemFP880</th>\n",
       "      <th>pchembl_value</th>\n",
       "    </tr>\n",
       "  </thead>\n",
       "  <tbody>\n",
       "    <tr>\n",
       "      <th>0</th>\n",
       "      <td>CHEMBL777</td>\n",
       "      <td>1.0</td>\n",
       "      <td>1.0</td>\n",
       "      <td>0.0</td>\n",
       "      <td>0.0</td>\n",
       "      <td>0.0</td>\n",
       "      <td>0.0</td>\n",
       "      <td>0.0</td>\n",
       "      <td>0.0</td>\n",
       "      <td>0.0</td>\n",
       "      <td>...</td>\n",
       "      <td>0.0</td>\n",
       "      <td>0.0</td>\n",
       "      <td>0.0</td>\n",
       "      <td>0.0</td>\n",
       "      <td>0.0</td>\n",
       "      <td>0.0</td>\n",
       "      <td>0.0</td>\n",
       "      <td>0.0</td>\n",
       "      <td>0.0</td>\n",
       "      <td>6.474324</td>\n",
       "    </tr>\n",
       "    <tr>\n",
       "      <th>1</th>\n",
       "      <td>CHEMBL404</td>\n",
       "      <td>1.0</td>\n",
       "      <td>1.0</td>\n",
       "      <td>0.0</td>\n",
       "      <td>0.0</td>\n",
       "      <td>0.0</td>\n",
       "      <td>0.0</td>\n",
       "      <td>0.0</td>\n",
       "      <td>0.0</td>\n",
       "      <td>0.0</td>\n",
       "      <td>...</td>\n",
       "      <td>0.0</td>\n",
       "      <td>0.0</td>\n",
       "      <td>0.0</td>\n",
       "      <td>0.0</td>\n",
       "      <td>0.0</td>\n",
       "      <td>0.0</td>\n",
       "      <td>0.0</td>\n",
       "      <td>0.0</td>\n",
       "      <td>0.0</td>\n",
       "      <td>6.310769</td>\n",
       "    </tr>\n",
       "    <tr>\n",
       "      <th>2</th>\n",
       "      <td>CHEMBL158</td>\n",
       "      <td>1.0</td>\n",
       "      <td>1.0</td>\n",
       "      <td>1.0</td>\n",
       "      <td>0.0</td>\n",
       "      <td>0.0</td>\n",
       "      <td>0.0</td>\n",
       "      <td>0.0</td>\n",
       "      <td>0.0</td>\n",
       "      <td>0.0</td>\n",
       "      <td>...</td>\n",
       "      <td>0.0</td>\n",
       "      <td>0.0</td>\n",
       "      <td>0.0</td>\n",
       "      <td>0.0</td>\n",
       "      <td>0.0</td>\n",
       "      <td>0.0</td>\n",
       "      <td>0.0</td>\n",
       "      <td>0.0</td>\n",
       "      <td>0.0</td>\n",
       "      <td>7.018000</td>\n",
       "    </tr>\n",
       "    <tr>\n",
       "      <th>3</th>\n",
       "      <td>CHEMBL148</td>\n",
       "      <td>1.0</td>\n",
       "      <td>1.0</td>\n",
       "      <td>1.0</td>\n",
       "      <td>0.0</td>\n",
       "      <td>0.0</td>\n",
       "      <td>0.0</td>\n",
       "      <td>0.0</td>\n",
       "      <td>0.0</td>\n",
       "      <td>0.0</td>\n",
       "      <td>...</td>\n",
       "      <td>0.0</td>\n",
       "      <td>0.0</td>\n",
       "      <td>0.0</td>\n",
       "      <td>0.0</td>\n",
       "      <td>0.0</td>\n",
       "      <td>0.0</td>\n",
       "      <td>0.0</td>\n",
       "      <td>0.0</td>\n",
       "      <td>0.0</td>\n",
       "      <td>7.020000</td>\n",
       "    </tr>\n",
       "    <tr>\n",
       "      <th>4</th>\n",
       "      <td>CHEMBL1730</td>\n",
       "      <td>1.0</td>\n",
       "      <td>1.0</td>\n",
       "      <td>1.0</td>\n",
       "      <td>0.0</td>\n",
       "      <td>0.0</td>\n",
       "      <td>0.0</td>\n",
       "      <td>0.0</td>\n",
       "      <td>0.0</td>\n",
       "      <td>0.0</td>\n",
       "      <td>...</td>\n",
       "      <td>0.0</td>\n",
       "      <td>0.0</td>\n",
       "      <td>0.0</td>\n",
       "      <td>0.0</td>\n",
       "      <td>0.0</td>\n",
       "      <td>0.0</td>\n",
       "      <td>0.0</td>\n",
       "      <td>0.0</td>\n",
       "      <td>0.0</td>\n",
       "      <td>5.950000</td>\n",
       "    </tr>\n",
       "  </tbody>\n",
       "</table>\n",
       "<p>5 rows × 883 columns</p>\n",
       "</div>"
      ],
      "text/plain": [
       "         Name  PubchemFP0  PubchemFP1  PubchemFP2  PubchemFP3  PubchemFP4  \\\n",
       "0   CHEMBL777         1.0         1.0         0.0         0.0         0.0   \n",
       "1   CHEMBL404         1.0         1.0         0.0         0.0         0.0   \n",
       "2   CHEMBL158         1.0         1.0         1.0         0.0         0.0   \n",
       "3   CHEMBL148         1.0         1.0         1.0         0.0         0.0   \n",
       "4  CHEMBL1730         1.0         1.0         1.0         0.0         0.0   \n",
       "\n",
       "   PubchemFP5  PubchemFP6  PubchemFP7  PubchemFP8  ...  PubchemFP872  \\\n",
       "0         0.0         0.0         0.0         0.0  ...           0.0   \n",
       "1         0.0         0.0         0.0         0.0  ...           0.0   \n",
       "2         0.0         0.0         0.0         0.0  ...           0.0   \n",
       "3         0.0         0.0         0.0         0.0  ...           0.0   \n",
       "4         0.0         0.0         0.0         0.0  ...           0.0   \n",
       "\n",
       "   PubchemFP873  PubchemFP874  PubchemFP875  PubchemFP876  PubchemFP877  \\\n",
       "0           0.0           0.0           0.0           0.0           0.0   \n",
       "1           0.0           0.0           0.0           0.0           0.0   \n",
       "2           0.0           0.0           0.0           0.0           0.0   \n",
       "3           0.0           0.0           0.0           0.0           0.0   \n",
       "4           0.0           0.0           0.0           0.0           0.0   \n",
       "\n",
       "   PubchemFP878  PubchemFP879  PubchemFP880  pchembl_value  \n",
       "0           0.0           0.0           0.0       6.474324  \n",
       "1           0.0           0.0           0.0       6.310769  \n",
       "2           0.0           0.0           0.0       7.018000  \n",
       "3           0.0           0.0           0.0       7.020000  \n",
       "4           0.0           0.0           0.0       5.950000  \n",
       "\n",
       "[5 rows x 883 columns]"
      ]
     },
     "execution_count": 14,
     "metadata": {},
     "output_type": "execute_result"
    }
   ],
   "source": [
    "df_final = df_fp.merge(df_clean[['chembl_id', 'pchembl_value']], left_on='Name', right_on='chembl_id')\n",
    "df_final = df_final.drop('chembl_id', axis=1)\n",
    "df_final = df_final.dropna()\n",
    "\n",
    "print(df_final.shape)\n",
    "df_final.head()"
   ]
  },
  {
   "cell_type": "code",
   "execution_count": 15,
   "metadata": {
    "colab": {
     "base_uri": "https://localhost:8080/"
    },
    "id": "WF-TGqy_pk-n",
    "outputId": "ebadccd2-9136-4192-83a6-34820a7fa42f",
    "scrolled": true
   },
   "outputs": [
    {
     "data": {
      "text/plain": [
       "0"
      ]
     },
     "execution_count": 15,
     "metadata": {},
     "output_type": "execute_result"
    }
   ],
   "source": [
    "df_final.isnull().sum().sum()"
   ]
  },
  {
   "cell_type": "code",
   "execution_count": 30,
   "metadata": {
    "colab": {
     "base_uri": "https://localhost:8080/"
    },
    "id": "dJAaxT44ojhc",
    "outputId": "c2890b7f-82e6-41c7-b85f-fea47c1feae8"
   },
   "outputs": [
    {
     "data": {
      "text/plain": [
       "(array([[1., 1., 0., ..., 0., 0., 0.],\n",
       "        [1., 1., 0., ..., 0., 0., 0.],\n",
       "        [1., 1., 1., ..., 0., 0., 0.],\n",
       "        ...,\n",
       "        [1., 1., 1., ..., 0., 0., 0.],\n",
       "        [1., 1., 1., ..., 0., 0., 0.],\n",
       "        [1., 1., 1., ..., 0., 0., 0.]]),\n",
       " array([6.47432432, 6.31076923, 7.018     , ..., 5.75      , 4.02      ,\n",
       "        4.7       ]))"
      ]
     },
     "execution_count": 30,
     "metadata": {},
     "output_type": "execute_result"
    }
   ],
   "source": [
    "X = df_final.drop(['Name', 'pchembl_value'], axis=1).values\n",
    "y = df_final.pchembl_value.values\n",
    "\n",
    "X, y"
   ]
  },
  {
   "cell_type": "code",
   "execution_count": 31,
   "metadata": {
    "id": "d0jqITdgozUb"
   },
   "outputs": [],
   "source": [
    "from sklearn.model_selection import train_test_split\n",
    "\n",
    "X_train, X_test, y_train, y_test = train_test_split(X, y, random_state=42, test_size=0.2)"
   ]
  },
  {
   "cell_type": "markdown",
   "metadata": {},
   "source": [
    "# Regression"
   ]
  },
  {
   "cell_type": "markdown",
   "metadata": {},
   "source": [
    "## Random Forest"
   ]
  },
  {
   "cell_type": "code",
   "execution_count": 32,
   "metadata": {
    "colab": {
     "base_uri": "https://localhost:8080/"
    },
    "id": "uYT6eMYDpHNF",
    "outputId": "2476c91b-925c-4e74-c9a1-447356952fc8"
   },
   "outputs": [
    {
     "data": {
      "text/plain": [
       "RandomForestRegressor(random_state=42)"
      ]
     },
     "execution_count": 32,
     "metadata": {},
     "output_type": "execute_result"
    }
   ],
   "source": [
    "from sklearn.ensemble import RandomForestRegressor\n",
    "\n",
    "model = RandomForestRegressor(random_state=42)\n",
    "model.fit(X_train, y_train)"
   ]
  },
  {
   "cell_type": "code",
   "execution_count": 33,
   "metadata": {
    "id": "O6fm19pVpdmE"
   },
   "outputs": [],
   "source": [
    "y_test_pred = model.predict(X_test)"
   ]
  },
  {
   "cell_type": "code",
   "execution_count": 34,
   "metadata": {
    "colab": {
     "base_uri": "https://localhost:8080/"
    },
    "id": "Lh-WDROnp-3v",
    "outputId": "3dc266d4-e656-4897-f435-9de54a6440c5"
   },
   "outputs": [
    {
     "name": "stdout",
     "output_type": "stream",
     "text": [
      "0.7144724945469162\n",
      "-0.02172326630746091\n"
     ]
    }
   ],
   "source": [
    "from sklearn.metrics import mean_squared_error, r2_score\n",
    "\n",
    "print(mean_squared_error(y_test, y_test_pred))\n",
    "print(r2_score(y_test, y_test_pred))"
   ]
  },
  {
   "cell_type": "markdown",
   "metadata": {},
   "source": [
    "## Linear Regression"
   ]
  },
  {
   "cell_type": "code",
   "execution_count": 36,
   "metadata": {},
   "outputs": [
    {
     "data": {
      "text/plain": [
       "LinearRegression()"
      ]
     },
     "execution_count": 36,
     "metadata": {},
     "output_type": "execute_result"
    }
   ],
   "source": [
    "from sklearn.linear_model import LinearRegression\n",
    "\n",
    "model = LinearRegression()\n",
    "model.fit(X_train, y_train)"
   ]
  },
  {
   "cell_type": "code",
   "execution_count": 41,
   "metadata": {},
   "outputs": [],
   "source": [
    "y_test_pred = model.predict(X_test)"
   ]
  },
  {
   "cell_type": "code",
   "execution_count": 42,
   "metadata": {},
   "outputs": [
    {
     "name": "stdout",
     "output_type": "stream",
     "text": [
      "8.321135560879261e+18\n",
      "-1.1899545286260763e+19\n"
     ]
    }
   ],
   "source": [
    "from sklearn.metrics import mean_squared_error, r2_score\n",
    "\n",
    "print(mean_squared_error(y_test, y_test_pred))\n",
    "print(r2_score(y_test, y_test_pred))"
   ]
  },
  {
   "cell_type": "markdown",
   "metadata": {},
   "source": [
    "## Support Vector Regression"
   ]
  },
  {
   "cell_type": "code",
   "execution_count": 43,
   "metadata": {},
   "outputs": [
    {
     "data": {
      "text/plain": [
       "SVR()"
      ]
     },
     "execution_count": 43,
     "metadata": {},
     "output_type": "execute_result"
    }
   ],
   "source": [
    "from sklearn.svm import SVR\n",
    "\n",
    "model = SVR()\n",
    "model.fit(X_train, y_train)"
   ]
  },
  {
   "cell_type": "code",
   "execution_count": 44,
   "metadata": {},
   "outputs": [],
   "source": [
    "y_test_pred = model.predict(X_test)"
   ]
  },
  {
   "cell_type": "code",
   "execution_count": 45,
   "metadata": {
    "scrolled": true
   },
   "outputs": [
    {
     "name": "stdout",
     "output_type": "stream",
     "text": [
      "0.7126632380234975\n",
      "-0.01913595958984171\n"
     ]
    }
   ],
   "source": [
    "from sklearn.metrics import mean_squared_error, r2_score\n",
    "\n",
    "print(mean_squared_error(y_test, y_test_pred))\n",
    "print(r2_score(y_test, y_test_pred))"
   ]
  },
  {
   "cell_type": "markdown",
   "metadata": {},
   "source": [
    "# Classification"
   ]
  },
  {
   "cell_type": "markdown",
   "metadata": {},
   "source": [
    "## Prepare the data"
   ]
  },
  {
   "cell_type": "code",
   "execution_count": 16,
   "metadata": {},
   "outputs": [
    {
     "data": {
      "text/html": [
       "<div>\n",
       "<style scoped>\n",
       "    .dataframe tbody tr th:only-of-type {\n",
       "        vertical-align: middle;\n",
       "    }\n",
       "\n",
       "    .dataframe tbody tr th {\n",
       "        vertical-align: top;\n",
       "    }\n",
       "\n",
       "    .dataframe thead th {\n",
       "        text-align: right;\n",
       "    }\n",
       "</style>\n",
       "<table border=\"1\" class=\"dataframe\">\n",
       "  <thead>\n",
       "    <tr style=\"text-align: right;\">\n",
       "      <th></th>\n",
       "      <th>Name</th>\n",
       "      <th>PubchemFP0</th>\n",
       "      <th>PubchemFP1</th>\n",
       "      <th>PubchemFP2</th>\n",
       "      <th>PubchemFP3</th>\n",
       "      <th>PubchemFP4</th>\n",
       "      <th>PubchemFP5</th>\n",
       "      <th>PubchemFP6</th>\n",
       "      <th>PubchemFP7</th>\n",
       "      <th>PubchemFP8</th>\n",
       "      <th>...</th>\n",
       "      <th>PubchemFP872</th>\n",
       "      <th>PubchemFP873</th>\n",
       "      <th>PubchemFP874</th>\n",
       "      <th>PubchemFP875</th>\n",
       "      <th>PubchemFP876</th>\n",
       "      <th>PubchemFP877</th>\n",
       "      <th>PubchemFP878</th>\n",
       "      <th>PubchemFP879</th>\n",
       "      <th>PubchemFP880</th>\n",
       "      <th>pchembl_value</th>\n",
       "    </tr>\n",
       "  </thead>\n",
       "  <tbody>\n",
       "    <tr>\n",
       "      <th>0</th>\n",
       "      <td>CHEMBL777</td>\n",
       "      <td>1.0</td>\n",
       "      <td>1.0</td>\n",
       "      <td>0.0</td>\n",
       "      <td>0.0</td>\n",
       "      <td>0.0</td>\n",
       "      <td>0.0</td>\n",
       "      <td>0.0</td>\n",
       "      <td>0.0</td>\n",
       "      <td>0.0</td>\n",
       "      <td>...</td>\n",
       "      <td>0.0</td>\n",
       "      <td>0.0</td>\n",
       "      <td>0.0</td>\n",
       "      <td>0.0</td>\n",
       "      <td>0.0</td>\n",
       "      <td>0.0</td>\n",
       "      <td>0.0</td>\n",
       "      <td>0.0</td>\n",
       "      <td>0.0</td>\n",
       "      <td>6.474324</td>\n",
       "    </tr>\n",
       "    <tr>\n",
       "      <th>1</th>\n",
       "      <td>CHEMBL404</td>\n",
       "      <td>1.0</td>\n",
       "      <td>1.0</td>\n",
       "      <td>0.0</td>\n",
       "      <td>0.0</td>\n",
       "      <td>0.0</td>\n",
       "      <td>0.0</td>\n",
       "      <td>0.0</td>\n",
       "      <td>0.0</td>\n",
       "      <td>0.0</td>\n",
       "      <td>...</td>\n",
       "      <td>0.0</td>\n",
       "      <td>0.0</td>\n",
       "      <td>0.0</td>\n",
       "      <td>0.0</td>\n",
       "      <td>0.0</td>\n",
       "      <td>0.0</td>\n",
       "      <td>0.0</td>\n",
       "      <td>0.0</td>\n",
       "      <td>0.0</td>\n",
       "      <td>6.310769</td>\n",
       "    </tr>\n",
       "    <tr>\n",
       "      <th>2</th>\n",
       "      <td>CHEMBL158</td>\n",
       "      <td>1.0</td>\n",
       "      <td>1.0</td>\n",
       "      <td>1.0</td>\n",
       "      <td>0.0</td>\n",
       "      <td>0.0</td>\n",
       "      <td>0.0</td>\n",
       "      <td>0.0</td>\n",
       "      <td>0.0</td>\n",
       "      <td>0.0</td>\n",
       "      <td>...</td>\n",
       "      <td>0.0</td>\n",
       "      <td>0.0</td>\n",
       "      <td>0.0</td>\n",
       "      <td>0.0</td>\n",
       "      <td>0.0</td>\n",
       "      <td>0.0</td>\n",
       "      <td>0.0</td>\n",
       "      <td>0.0</td>\n",
       "      <td>0.0</td>\n",
       "      <td>7.018000</td>\n",
       "    </tr>\n",
       "    <tr>\n",
       "      <th>3</th>\n",
       "      <td>CHEMBL148</td>\n",
       "      <td>1.0</td>\n",
       "      <td>1.0</td>\n",
       "      <td>1.0</td>\n",
       "      <td>0.0</td>\n",
       "      <td>0.0</td>\n",
       "      <td>0.0</td>\n",
       "      <td>0.0</td>\n",
       "      <td>0.0</td>\n",
       "      <td>0.0</td>\n",
       "      <td>...</td>\n",
       "      <td>0.0</td>\n",
       "      <td>0.0</td>\n",
       "      <td>0.0</td>\n",
       "      <td>0.0</td>\n",
       "      <td>0.0</td>\n",
       "      <td>0.0</td>\n",
       "      <td>0.0</td>\n",
       "      <td>0.0</td>\n",
       "      <td>0.0</td>\n",
       "      <td>7.020000</td>\n",
       "    </tr>\n",
       "    <tr>\n",
       "      <th>4</th>\n",
       "      <td>CHEMBL1730</td>\n",
       "      <td>1.0</td>\n",
       "      <td>1.0</td>\n",
       "      <td>1.0</td>\n",
       "      <td>0.0</td>\n",
       "      <td>0.0</td>\n",
       "      <td>0.0</td>\n",
       "      <td>0.0</td>\n",
       "      <td>0.0</td>\n",
       "      <td>0.0</td>\n",
       "      <td>...</td>\n",
       "      <td>0.0</td>\n",
       "      <td>0.0</td>\n",
       "      <td>0.0</td>\n",
       "      <td>0.0</td>\n",
       "      <td>0.0</td>\n",
       "      <td>0.0</td>\n",
       "      <td>0.0</td>\n",
       "      <td>0.0</td>\n",
       "      <td>0.0</td>\n",
       "      <td>5.950000</td>\n",
       "    </tr>\n",
       "  </tbody>\n",
       "</table>\n",
       "<p>5 rows × 883 columns</p>\n",
       "</div>"
      ],
      "text/plain": [
       "         Name  PubchemFP0  PubchemFP1  PubchemFP2  PubchemFP3  PubchemFP4  \\\n",
       "0   CHEMBL777         1.0         1.0         0.0         0.0         0.0   \n",
       "1   CHEMBL404         1.0         1.0         0.0         0.0         0.0   \n",
       "2   CHEMBL158         1.0         1.0         1.0         0.0         0.0   \n",
       "3   CHEMBL148         1.0         1.0         1.0         0.0         0.0   \n",
       "4  CHEMBL1730         1.0         1.0         1.0         0.0         0.0   \n",
       "\n",
       "   PubchemFP5  PubchemFP6  PubchemFP7  PubchemFP8  ...  PubchemFP872  \\\n",
       "0         0.0         0.0         0.0         0.0  ...           0.0   \n",
       "1         0.0         0.0         0.0         0.0  ...           0.0   \n",
       "2         0.0         0.0         0.0         0.0  ...           0.0   \n",
       "3         0.0         0.0         0.0         0.0  ...           0.0   \n",
       "4         0.0         0.0         0.0         0.0  ...           0.0   \n",
       "\n",
       "   PubchemFP873  PubchemFP874  PubchemFP875  PubchemFP876  PubchemFP877  \\\n",
       "0           0.0           0.0           0.0           0.0           0.0   \n",
       "1           0.0           0.0           0.0           0.0           0.0   \n",
       "2           0.0           0.0           0.0           0.0           0.0   \n",
       "3           0.0           0.0           0.0           0.0           0.0   \n",
       "4           0.0           0.0           0.0           0.0           0.0   \n",
       "\n",
       "   PubchemFP878  PubchemFP879  PubchemFP880  pchembl_value  \n",
       "0           0.0           0.0           0.0       6.474324  \n",
       "1           0.0           0.0           0.0       6.310769  \n",
       "2           0.0           0.0           0.0       7.018000  \n",
       "3           0.0           0.0           0.0       7.020000  \n",
       "4           0.0           0.0           0.0       5.950000  \n",
       "\n",
       "[5 rows x 883 columns]"
      ]
     },
     "execution_count": 16,
     "metadata": {},
     "output_type": "execute_result"
    }
   ],
   "source": [
    "df_final.head()"
   ]
  },
  {
   "cell_type": "code",
   "execution_count": 17,
   "metadata": {},
   "outputs": [
    {
     "data": {
      "text/html": [
       "<div>\n",
       "<style scoped>\n",
       "    .dataframe tbody tr th:only-of-type {\n",
       "        vertical-align: middle;\n",
       "    }\n",
       "\n",
       "    .dataframe tbody tr th {\n",
       "        vertical-align: top;\n",
       "    }\n",
       "\n",
       "    .dataframe thead th {\n",
       "        text-align: right;\n",
       "    }\n",
       "</style>\n",
       "<table border=\"1\" class=\"dataframe\">\n",
       "  <thead>\n",
       "    <tr style=\"text-align: right;\">\n",
       "      <th></th>\n",
       "      <th>Name</th>\n",
       "      <th>PubchemFP0</th>\n",
       "      <th>PubchemFP1</th>\n",
       "      <th>PubchemFP2</th>\n",
       "      <th>PubchemFP3</th>\n",
       "      <th>PubchemFP4</th>\n",
       "      <th>PubchemFP5</th>\n",
       "      <th>PubchemFP6</th>\n",
       "      <th>PubchemFP7</th>\n",
       "      <th>PubchemFP8</th>\n",
       "      <th>...</th>\n",
       "      <th>PubchemFP873</th>\n",
       "      <th>PubchemFP874</th>\n",
       "      <th>PubchemFP875</th>\n",
       "      <th>PubchemFP876</th>\n",
       "      <th>PubchemFP877</th>\n",
       "      <th>PubchemFP878</th>\n",
       "      <th>PubchemFP879</th>\n",
       "      <th>PubchemFP880</th>\n",
       "      <th>pchembl_value</th>\n",
       "      <th>activity</th>\n",
       "    </tr>\n",
       "  </thead>\n",
       "  <tbody>\n",
       "    <tr>\n",
       "      <th>0</th>\n",
       "      <td>CHEMBL777</td>\n",
       "      <td>1.0</td>\n",
       "      <td>1.0</td>\n",
       "      <td>0.0</td>\n",
       "      <td>0.0</td>\n",
       "      <td>0.0</td>\n",
       "      <td>0.0</td>\n",
       "      <td>0.0</td>\n",
       "      <td>0.0</td>\n",
       "      <td>0.0</td>\n",
       "      <td>...</td>\n",
       "      <td>0.0</td>\n",
       "      <td>0.0</td>\n",
       "      <td>0.0</td>\n",
       "      <td>0.0</td>\n",
       "      <td>0.0</td>\n",
       "      <td>0.0</td>\n",
       "      <td>0.0</td>\n",
       "      <td>0.0</td>\n",
       "      <td>6.474324</td>\n",
       "      <td>Active</td>\n",
       "    </tr>\n",
       "    <tr>\n",
       "      <th>1</th>\n",
       "      <td>CHEMBL404</td>\n",
       "      <td>1.0</td>\n",
       "      <td>1.0</td>\n",
       "      <td>0.0</td>\n",
       "      <td>0.0</td>\n",
       "      <td>0.0</td>\n",
       "      <td>0.0</td>\n",
       "      <td>0.0</td>\n",
       "      <td>0.0</td>\n",
       "      <td>0.0</td>\n",
       "      <td>...</td>\n",
       "      <td>0.0</td>\n",
       "      <td>0.0</td>\n",
       "      <td>0.0</td>\n",
       "      <td>0.0</td>\n",
       "      <td>0.0</td>\n",
       "      <td>0.0</td>\n",
       "      <td>0.0</td>\n",
       "      <td>0.0</td>\n",
       "      <td>6.310769</td>\n",
       "      <td>Active</td>\n",
       "    </tr>\n",
       "    <tr>\n",
       "      <th>2</th>\n",
       "      <td>CHEMBL158</td>\n",
       "      <td>1.0</td>\n",
       "      <td>1.0</td>\n",
       "      <td>1.0</td>\n",
       "      <td>0.0</td>\n",
       "      <td>0.0</td>\n",
       "      <td>0.0</td>\n",
       "      <td>0.0</td>\n",
       "      <td>0.0</td>\n",
       "      <td>0.0</td>\n",
       "      <td>...</td>\n",
       "      <td>0.0</td>\n",
       "      <td>0.0</td>\n",
       "      <td>0.0</td>\n",
       "      <td>0.0</td>\n",
       "      <td>0.0</td>\n",
       "      <td>0.0</td>\n",
       "      <td>0.0</td>\n",
       "      <td>0.0</td>\n",
       "      <td>7.018000</td>\n",
       "      <td>Active</td>\n",
       "    </tr>\n",
       "    <tr>\n",
       "      <th>3</th>\n",
       "      <td>CHEMBL148</td>\n",
       "      <td>1.0</td>\n",
       "      <td>1.0</td>\n",
       "      <td>1.0</td>\n",
       "      <td>0.0</td>\n",
       "      <td>0.0</td>\n",
       "      <td>0.0</td>\n",
       "      <td>0.0</td>\n",
       "      <td>0.0</td>\n",
       "      <td>0.0</td>\n",
       "      <td>...</td>\n",
       "      <td>0.0</td>\n",
       "      <td>0.0</td>\n",
       "      <td>0.0</td>\n",
       "      <td>0.0</td>\n",
       "      <td>0.0</td>\n",
       "      <td>0.0</td>\n",
       "      <td>0.0</td>\n",
       "      <td>0.0</td>\n",
       "      <td>7.020000</td>\n",
       "      <td>Active</td>\n",
       "    </tr>\n",
       "    <tr>\n",
       "      <th>4</th>\n",
       "      <td>CHEMBL1730</td>\n",
       "      <td>1.0</td>\n",
       "      <td>1.0</td>\n",
       "      <td>1.0</td>\n",
       "      <td>0.0</td>\n",
       "      <td>0.0</td>\n",
       "      <td>0.0</td>\n",
       "      <td>0.0</td>\n",
       "      <td>0.0</td>\n",
       "      <td>0.0</td>\n",
       "      <td>...</td>\n",
       "      <td>0.0</td>\n",
       "      <td>0.0</td>\n",
       "      <td>0.0</td>\n",
       "      <td>0.0</td>\n",
       "      <td>0.0</td>\n",
       "      <td>0.0</td>\n",
       "      <td>0.0</td>\n",
       "      <td>0.0</td>\n",
       "      <td>5.950000</td>\n",
       "      <td>Intermediate</td>\n",
       "    </tr>\n",
       "  </tbody>\n",
       "</table>\n",
       "<p>5 rows × 884 columns</p>\n",
       "</div>"
      ],
      "text/plain": [
       "         Name  PubchemFP0  PubchemFP1  PubchemFP2  PubchemFP3  PubchemFP4  \\\n",
       "0   CHEMBL777         1.0         1.0         0.0         0.0         0.0   \n",
       "1   CHEMBL404         1.0         1.0         0.0         0.0         0.0   \n",
       "2   CHEMBL158         1.0         1.0         1.0         0.0         0.0   \n",
       "3   CHEMBL148         1.0         1.0         1.0         0.0         0.0   \n",
       "4  CHEMBL1730         1.0         1.0         1.0         0.0         0.0   \n",
       "\n",
       "   PubchemFP5  PubchemFP6  PubchemFP7  PubchemFP8  ...  PubchemFP873  \\\n",
       "0         0.0         0.0         0.0         0.0  ...           0.0   \n",
       "1         0.0         0.0         0.0         0.0  ...           0.0   \n",
       "2         0.0         0.0         0.0         0.0  ...           0.0   \n",
       "3         0.0         0.0         0.0         0.0  ...           0.0   \n",
       "4         0.0         0.0         0.0         0.0  ...           0.0   \n",
       "\n",
       "   PubchemFP874  PubchemFP875  PubchemFP876  PubchemFP877  PubchemFP878  \\\n",
       "0           0.0           0.0           0.0           0.0           0.0   \n",
       "1           0.0           0.0           0.0           0.0           0.0   \n",
       "2           0.0           0.0           0.0           0.0           0.0   \n",
       "3           0.0           0.0           0.0           0.0           0.0   \n",
       "4           0.0           0.0           0.0           0.0           0.0   \n",
       "\n",
       "   PubchemFP879  PubchemFP880  pchembl_value      activity  \n",
       "0           0.0           0.0       6.474324        Active  \n",
       "1           0.0           0.0       6.310769        Active  \n",
       "2           0.0           0.0       7.018000        Active  \n",
       "3           0.0           0.0       7.020000        Active  \n",
       "4           0.0           0.0       5.950000  Intermediate  \n",
       "\n",
       "[5 rows x 884 columns]"
      ]
     },
     "execution_count": 17,
     "metadata": {},
     "output_type": "execute_result"
    }
   ],
   "source": [
    "def got_label(x):\n",
    "    if x < 5:\n",
    "        return \"Inactive\"\n",
    "    elif x > 6:\n",
    "        return \"Active\"\n",
    "    else:\n",
    "        return \"Intermediate\"\n",
    "\n",
    "df_final['activity'] = df_final.pchembl_value.apply(got_label)\n",
    "df_final.head()"
   ]
  },
  {
   "cell_type": "code",
   "execution_count": 18,
   "metadata": {},
   "outputs": [
    {
     "data": {
      "text/plain": [
       "Inactive        0.477933\n",
       "Intermediate    0.326536\n",
       "Active          0.195531\n",
       "Name: activity, dtype: float64"
      ]
     },
     "execution_count": 18,
     "metadata": {},
     "output_type": "execute_result"
    }
   ],
   "source": [
    "df_final.activity.value_counts(normalize=True)"
   ]
  },
  {
   "cell_type": "code",
   "execution_count": 21,
   "metadata": {},
   "outputs": [
    {
     "data": {
      "text/plain": [
       "(array([[1., 1., 0., ..., 0., 0., 0.],\n",
       "        [1., 1., 0., ..., 0., 0., 0.],\n",
       "        [1., 1., 1., ..., 0., 0., 0.],\n",
       "        ...,\n",
       "        [1., 1., 1., ..., 0., 0., 0.],\n",
       "        [1., 1., 1., ..., 0., 0., 0.],\n",
       "        [1., 1., 1., ..., 0., 0., 0.]]),\n",
       " array([0, 0, 0, ..., 1, 2, 2], dtype=int64))"
      ]
     },
     "execution_count": 21,
     "metadata": {},
     "output_type": "execute_result"
    }
   ],
   "source": [
    "X = df_final.drop(['Name', 'pchembl_value', 'activity'], axis=1).values\n",
    "label = pd.factorize(df_final.activity)\n",
    "y = label[0]\n",
    "X, y"
   ]
  },
  {
   "cell_type": "code",
   "execution_count": 67,
   "metadata": {},
   "outputs": [],
   "source": [
    "X_train, X_test, y_train, y_test = train_test_split(X, y, random_state=42, test_size=0.2)"
   ]
  },
  {
   "cell_type": "markdown",
   "metadata": {},
   "source": [
    "## Random Forest"
   ]
  },
  {
   "cell_type": "code",
   "execution_count": 68,
   "metadata": {
    "colab": {
     "base_uri": "https://localhost:8080/"
    },
    "id": "uYT6eMYDpHNF",
    "outputId": "2476c91b-925c-4e74-c9a1-447356952fc8"
   },
   "outputs": [
    {
     "data": {
      "text/plain": [
       "RandomForestClassifier(random_state=42)"
      ]
     },
     "execution_count": 68,
     "metadata": {},
     "output_type": "execute_result"
    }
   ],
   "source": [
    "from sklearn.ensemble import RandomForestClassifier\n",
    "\n",
    "model = RandomForestClassifier(random_state=42)\n",
    "model.fit(X_train, y_train)"
   ]
  },
  {
   "cell_type": "code",
   "execution_count": 69,
   "metadata": {
    "id": "O6fm19pVpdmE"
   },
   "outputs": [],
   "source": [
    "y_test_pred = model.predict(X_test)"
   ]
  },
  {
   "cell_type": "code",
   "execution_count": 71,
   "metadata": {
    "colab": {
     "base_uri": "https://localhost:8080/"
    },
    "id": "Lh-WDROnp-3v",
    "outputId": "3dc266d4-e656-4897-f435-9de54a6440c5",
    "scrolled": true
   },
   "outputs": [
    {
     "name": "stdout",
     "output_type": "stream",
     "text": [
      "              precision    recall  f1-score   support\n",
      "\n",
      "      Active       0.29      0.13      0.17      2456\n",
      "Intermediate       0.40      0.31      0.35      4131\n",
      "    Inactive       0.51      0.70      0.59      6016\n",
      "\n",
      "    accuracy                           0.46     12603\n",
      "   macro avg       0.40      0.38      0.37     12603\n",
      "weighted avg       0.43      0.46      0.43     12603\n",
      "\n"
     ]
    }
   ],
   "source": [
    "from sklearn.metrics import classification_report\n",
    "\n",
    "print(classification_report(y_test, y_test_pred, target_names=label[1]))"
   ]
  },
  {
   "cell_type": "markdown",
   "metadata": {},
   "source": [
    "## SVM"
   ]
  },
  {
   "cell_type": "code",
   "execution_count": 72,
   "metadata": {
    "colab": {
     "base_uri": "https://localhost:8080/"
    },
    "id": "uYT6eMYDpHNF",
    "outputId": "2476c91b-925c-4e74-c9a1-447356952fc8"
   },
   "outputs": [
    {
     "data": {
      "text/plain": [
       "SVC()"
      ]
     },
     "execution_count": 72,
     "metadata": {},
     "output_type": "execute_result"
    }
   ],
   "source": [
    "from sklearn.svm import SVC\n",
    "\n",
    "model = SVC()\n",
    "model.fit(X_train, y_train)"
   ]
  },
  {
   "cell_type": "code",
   "execution_count": 73,
   "metadata": {
    "id": "O6fm19pVpdmE"
   },
   "outputs": [],
   "source": [
    "y_test_pred = model.predict(X_test)"
   ]
  },
  {
   "cell_type": "code",
   "execution_count": 75,
   "metadata": {
    "colab": {
     "base_uri": "https://localhost:8080/"
    },
    "id": "Lh-WDROnp-3v",
    "outputId": "3dc266d4-e656-4897-f435-9de54a6440c5"
   },
   "outputs": [
    {
     "name": "stdout",
     "output_type": "stream",
     "text": [
      "              precision    recall  f1-score   support\n",
      "\n",
      "      Active       0.69      0.02      0.05      2456\n",
      "Intermediate       0.64      0.02      0.04      4131\n",
      "    Inactive       0.48      0.99      0.65      6016\n",
      "\n",
      "    accuracy                           0.49     12603\n",
      "   macro avg       0.60      0.35      0.25     12603\n",
      "weighted avg       0.57      0.49      0.33     12603\n",
      "\n"
     ]
    }
   ],
   "source": [
    "from sklearn.metrics import classification_report\n",
    "\n",
    "print(classification_report(y_test, y_test_pred, target_names=label[1]))"
   ]
  },
  {
   "cell_type": "markdown",
   "metadata": {},
   "source": [
    "## SMOTE Sampling x Random Forest"
   ]
  },
  {
   "cell_type": "code",
   "execution_count": 22,
   "metadata": {},
   "outputs": [],
   "source": [
    "from imblearn.over_sampling import SMOTE\n",
    "\n",
    "oversample = SMOTE()\n",
    "X, y = oversample.fit_resample(X, y)"
   ]
  },
  {
   "cell_type": "code",
   "execution_count": 24,
   "metadata": {},
   "outputs": [],
   "source": [
    "from sklearn.model_selection import train_test_split\n",
    "\n",
    "X_train, X_test, y_train, y_test = train_test_split(X, y, random_state=42, test_size=0.2)"
   ]
  },
  {
   "cell_type": "code",
   "execution_count": 25,
   "metadata": {
    "colab": {
     "base_uri": "https://localhost:8080/"
    },
    "id": "uYT6eMYDpHNF",
    "outputId": "2476c91b-925c-4e74-c9a1-447356952fc8"
   },
   "outputs": [
    {
     "data": {
      "text/plain": [
       "RandomForestClassifier(random_state=42)"
      ]
     },
     "execution_count": 25,
     "metadata": {},
     "output_type": "execute_result"
    }
   ],
   "source": [
    "from sklearn.ensemble import RandomForestClassifier\n",
    "\n",
    "model = RandomForestClassifier(random_state=42)\n",
    "model.fit(X_train, y_train)"
   ]
  },
  {
   "cell_type": "code",
   "execution_count": 26,
   "metadata": {
    "id": "O6fm19pVpdmE"
   },
   "outputs": [],
   "source": [
    "y_test_pred = model.predict(X_test)"
   ]
  },
  {
   "cell_type": "code",
   "execution_count": 27,
   "metadata": {
    "colab": {
     "base_uri": "https://localhost:8080/"
    },
    "id": "Lh-WDROnp-3v",
    "outputId": "3dc266d4-e656-4897-f435-9de54a6440c5",
    "scrolled": true
   },
   "outputs": [
    {
     "name": "stdout",
     "output_type": "stream",
     "text": [
      "              precision    recall  f1-score   support\n",
      "\n",
      "      Active       0.75      0.69      0.72      6010\n",
      "Intermediate       0.61      0.49      0.54      6063\n",
      "    Inactive       0.53      0.67      0.59      5997\n",
      "\n",
      "    accuracy                           0.62     18070\n",
      "   macro avg       0.63      0.62      0.62     18070\n",
      "weighted avg       0.63      0.62      0.62     18070\n",
      "\n"
     ]
    }
   ],
   "source": [
    "from sklearn.metrics import classification_report\n",
    "\n",
    "print(classification_report(y_test, y_test_pred, target_names=label[1]))"
   ]
  }
 ],
 "metadata": {
  "colab": {
   "name": "Bioactivity Score Prediction.ipynb",
   "provenance": []
  },
  "kernelspec": {
   "display_name": "Python 3",
   "language": "python",
   "name": "python3"
  },
  "language_info": {
   "codemirror_mode": {
    "name": "ipython",
    "version": 3
   },
   "file_extension": ".py",
   "mimetype": "text/x-python",
   "name": "python",
   "nbconvert_exporter": "python",
   "pygments_lexer": "ipython3",
   "version": "3.8.8"
  }
 },
 "nbformat": 4,
 "nbformat_minor": 1
}
